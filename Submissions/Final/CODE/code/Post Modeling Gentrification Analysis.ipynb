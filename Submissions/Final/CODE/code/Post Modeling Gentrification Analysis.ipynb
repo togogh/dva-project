{
 "cells": [
  {
   "cell_type": "markdown",
   "id": "9fae49c2",
   "metadata": {},
   "source": [
    "# Instructions on Use\n",
    "Run all cells sequntially.\n",
    "\n",
    "-Yang"
   ]
  },
  {
   "cell_type": "code",
   "execution_count": 61,
   "id": "2a8c5d81",
   "metadata": {},
   "outputs": [],
   "source": [
    "import os\n",
    "import pandas as pd\n",
    "import numpy as np\n",
    "import matplotlib.pyplot as plt\n",
    "import re"
   ]
  },
  {
   "cell_type": "code",
   "execution_count": 2,
   "id": "5ce06560",
   "metadata": {},
   "outputs": [
    {
     "name": "stdout",
     "output_type": "stream",
     "text": [
      "/Users/edwardyao/Documents/gatech_cse6242/group_project\n"
     ]
    }
   ],
   "source": [
    "pwd = os.getcwd()\n",
    "print(pwd)"
   ]
  },
  {
   "cell_type": "markdown",
   "id": "b0a386c5",
   "metadata": {},
   "source": [
    "### Notes on Data\n",
    "Only data files used are \"predictions_on_2011.csv\" and \"predictions_on_2021.csv\". You may need to edit the path to load the file"
   ]
  },
  {
   "cell_type": "code",
   "execution_count": 64,
   "id": "0863aa7f",
   "metadata": {},
   "outputs": [],
   "source": [
    "# import predictions and original data to get city names and neighborhoods\n",
    "\n",
    "preds_2011 = pd.read_csv('predictions_on_2011.csv')\n",
    "preds_2021 = pd.read_csv('predictions_on_2021.csv')\n",
    "\n",
    "og_data = pd.read_csv(pwd+'/data/normalized_percents.csv')\n",
    "og_data.columns = og_data.columns.str.lower()\n",
    "#og_data = og_data[og_data['year'] != 2001]\n",
    "\n",
    "og2011 = og_data[og_data['year'] == 2011].set_index(\"msoa code\")\n",
    "og2021 = og_data[og_data['year'] == 2021].set_index(\"msoa code\")"
   ]
  },
  {
   "cell_type": "code",
   "execution_count": 80,
   "id": "61f93e98",
   "metadata": {},
   "outputs": [],
   "source": [
    "# subset predictions to only gentrified \n",
    "\n",
    "gentrified_2021 = preds_2011[preds_2011['sd_change'] >= 1.0]\n",
    "gentrified_2031 = preds_2021[preds_2021['sd_change'] >= 1.0]\n",
    "\n",
    "num_gent_2021 = len(gentrified_2021)\n",
    "num_gent_2031 = len(gentrified_2031)"
   ]
  },
  {
   "cell_type": "code",
   "execution_count": 129,
   "id": "31e6376f",
   "metadata": {},
   "outputs": [],
   "source": [
    "def top_var_analysis(df, year):\n",
    "    \n",
    "    df = df.set_index(\"msoa code\")\n",
    "    \n",
    "    pattern = \"var[123]\"\n",
    "    comp = re.compile(pattern)\n",
    "    var_cols = [c for c in df.columns.tolist() if comp.match(c)]\n",
    "    \n",
    "    \n",
    "    var_diff = {} # dict with var 1-3 has top 3\n",
    "    #var_stats = {} # mean, sd, median of shapley values\n",
    "    top_perc = {} # keys are var 1-3; vals are df of perc of each top 3\n",
    "    \n",
    "    if year == 2011:\n",
    "        for vc in var_cols:\n",
    "            \n",
    "            var_diff[vc] = {}\n",
    "            \n",
    "            sub = pd.DataFrame(df.loc[:, vc]) # this is now var1 or 2 or 3\n",
    "            # get the top 3 by count - change to % of all gentrified\n",
    "            top3 = pd.DataFrame(sub.value_counts()).iloc[:3] / num_gent_2021\n",
    "            top_perc[vc] = top3\n",
    "            # get % cols\n",
    "            for t in top3.index: # for each var\n",
    "                t = t[0]\n",
    "                tmp2011 = og2011.loc[:,t] # all gentrified, but only #1 col\n",
    "                tmp2021 = og2021.loc[:,t] \n",
    "                ph = sub[sub[vc] == t] # subset to select msoa by merging\n",
    "                \n",
    "                ph = ph.merge(tmp2011, how='inner', on='msoa code').merge(tmp2021, how='inner', on='msoa code',\n",
    "                                                                         suffixes=['_2011', '_2021'])\n",
    "                ph['diff'] = ph[t+'_2021'] - ph[t+'_2011'] # diff between years\n",
    "                mean_diff = np.mean(ph['diff'])\n",
    "                sd_diff = np.std(ph['diff'])\n",
    "                median_diff = np.median(ph['diff'])\n",
    "                \n",
    "                var_diff[vc][t] = {'mean': round(mean_diff, 3), 'sd': round(sd_diff, 3), \n",
    "                                   'median': round(median_diff, 3)}\n",
    "        print('2021 predictions...')\n",
    "        for k,v in top_perc.items(): # printing the percent dfs\n",
    "            print(f'For {k} top 3 features:')\n",
    "            print(f'{v}')\n",
    "        \n",
    "        \n",
    "        for k,v in var_diff.items():\n",
    "            print(f'For {k}') # k is var1-3; v is dict\n",
    "            for ki, vi in v.items(): # ki is feature name; vi is dict\n",
    "                  print(f'{ki}\\n: {vi}')\n",
    "\n",
    "    else:\n",
    "        for vc in var_cols:\n",
    "            \n",
    "            top_perc[vc] = {}\n",
    "            \n",
    "            sub = pd.DataFrame(df.loc[:, vc]) # this is now var1 or 2 or 3\n",
    "            # get the top 3 by count - change to % of all gentrified\n",
    "            top3 = pd.DataFrame(sub.value_counts()).iloc[:3] / num_gent_2031\n",
    "            top_perc[vc] = top3\n",
    "            \n",
    "            for t in top3.index: # for each var\n",
    "                t = t[0]\n",
    "                ph = sub[sub[vc] == t] # subset to select msoa by merging\n",
    "                \n",
    "                \n",
    "        print('2031 predictions...')\n",
    "        for k,v in top_perc.items():\n",
    "            print(f'{k} top 3 features:')\n",
    "            print(f'{v}')\n"
   ]
  },
  {
   "cell_type": "code",
   "execution_count": 130,
   "id": "52383d24",
   "metadata": {},
   "outputs": [
    {
     "name": "stdout",
     "output_type": "stream",
     "text": [
      "2021 predictions...\n",
      "For var1 top 3 features:\n",
      "                                                       count\n",
      "var1                                                        \n",
      "ethnic group: black, black british, black welsh...  0.547667\n",
      "single family household: lone parent family: al...  0.235294\n",
      "ownership: owned: owns outright                     0.046653\n",
      "For var2 top 3 features:\n",
      "                                    count\n",
      "var2                                     \n",
      "passport: africa                 0.330629\n",
      "ownership: owned: owns outright  0.146045\n",
      "industry: c: manufacturing       0.095335\n",
      "For var3 top 3 features:\n",
      "                                                  count\n",
      "var3                                                   \n",
      "ethnic group: mixed or multiple ethnic groups  0.219067\n",
      "industry: c: manufacturing                     0.176471\n",
      "passport: africa                               0.133874\n",
      "For var1\n",
      "ethnic group: black, black british, black welsh, caribbean or african\n",
      ": {'mean': -0.011, 'sd': 0.032, 'median': -0.015}\n",
      "single family household: lone parent family: all children non-dependent\n",
      ": {'mean': 0.01, 'sd': 0.008, 'median': 0.01}\n",
      "ownership: owned: owns outright\n",
      ": {'mean': 0.003, 'sd': 0.01, 'median': -0.0}\n",
      "For var2\n",
      "passport: africa\n",
      ": {'mean': 0.047, 'sd': 0.022, 'median': 0.044}\n",
      "ownership: owned: owns outright\n",
      ": {'mean': 0.011, 'sd': 0.009, 'median': 0.012}\n",
      "industry: c: manufacturing\n",
      ": {'mean': -0.005, 'sd': 0.006, 'median': -0.005}\n",
      "For var3\n",
      "ethnic group: mixed or multiple ethnic groups\n",
      ": {'mean': 0.004, 'sd': 0.009, 'median': 0.005}\n",
      "industry: c: manufacturing\n",
      ": {'mean': -0.006, 'sd': 0.007, 'median': -0.005}\n",
      "passport: africa\n",
      ": {'mean': 0.06, 'sd': 0.025, 'median': 0.058}\n"
     ]
    }
   ],
   "source": [
    "top_var_analysis(gentrified_2021, year=2011)"
   ]
  },
  {
   "cell_type": "code",
   "execution_count": 100,
   "id": "4e89c090",
   "metadata": {},
   "outputs": [
    {
     "name": "stdout",
     "output_type": "stream",
     "text": [
      "2031 predictions...\n",
      "var1 top 3 features:\n",
      "                                                       count\n",
      "var1                                                        \n",
      "ethnic group: black, black british, black welsh...  0.685775\n",
      "passport: africa                                    0.225053\n",
      "ownership: owned: owns outright                     0.044586\n",
      "var2 top 3 features:\n",
      "                                                       count\n",
      "var2                                                        \n",
      "passport: africa                                    0.626327\n",
      "ownership: owned: owns outright                     0.110403\n",
      "single family household: lone parent family: al...  0.097665\n",
      "var3 top 3 features:\n",
      "                                                       count\n",
      "var3                                                        \n",
      "single family household: lone parent family: al...  0.312102\n",
      "ethnic group: mixed or multiple ethnic groups       0.299363\n",
      "passport: africa                                    0.127389\n"
     ]
    }
   ],
   "source": [
    "top_var_analysis(gentrified_2031, year=2021)"
   ]
  },
  {
   "cell_type": "code",
   "execution_count": 116,
   "id": "3efafbec",
   "metadata": {},
   "outputs": [
    {
     "data": {
      "text/plain": [
       "city name\n",
       "London        77.079108\n",
       "Manchester     5.273834\n",
       "Bristol        5.273834\n",
       "Name: count, dtype: float64"
      ]
     },
     "execution_count": 116,
     "metadata": {},
     "output_type": "execute_result"
    }
   ],
   "source": [
    "# top 3 cities with gentrification 2021\n",
    "cities_2011 = og2011[['city name']]\n",
    "city_change_2021 = gentrified_2021.set_index('msoa code')[['sd_change']].merge(cities_2011, how='inner', on='msoa code')\n",
    "\n",
    "(pd.DataFrame(city_change_2021.value_counts('city name')).iloc[:3, 0] / num_gent_2021)*100"
   ]
  },
  {
   "cell_type": "code",
   "execution_count": 117,
   "id": "241a930f",
   "metadata": {},
   "outputs": [
    {
     "data": {
      "text/plain": [
       "city name\n",
       "London        79.617834\n",
       "Manchester     4.670913\n",
       "Birmingham     3.397028\n",
       "Name: count, dtype: float64"
      ]
     },
     "execution_count": 117,
     "metadata": {},
     "output_type": "execute_result"
    }
   ],
   "source": [
    "# top 3 cities with gentrification 2031\n",
    "cities_2021 = og2021[['city name']]\n",
    "city_change_2031 = gentrified_2031.set_index('msoa code')[['sd_change']].merge(cities_2021, how='inner', on='msoa code')\n",
    "\n",
    "(pd.DataFrame(city_change_2031.value_counts('city name')).iloc[:3, 0] / num_gent_2031)*100"
   ]
  }
 ],
 "metadata": {
  "kernelspec": {
   "display_name": "Python 3 (ipykernel)",
   "language": "python",
   "name": "python3"
  },
  "language_info": {
   "codemirror_mode": {
    "name": "ipython",
    "version": 3
   },
   "file_extension": ".py",
   "mimetype": "text/x-python",
   "name": "python",
   "nbconvert_exporter": "python",
   "pygments_lexer": "ipython3",
   "version": "3.10.9"
  }
 },
 "nbformat": 4,
 "nbformat_minor": 5
}
