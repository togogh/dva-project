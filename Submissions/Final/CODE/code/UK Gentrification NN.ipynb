{
 "cells": [
  {
   "cell_type": "markdown",
   "id": "a6bb40db",
   "metadata": {},
   "source": [
    "# Intructions to Run Notebook\n",
    "Run all cells sequentially up to Experiment 1.1 markdown cell. Further below are other experiments done that are not discussed in the report and do not have bearing on overall results.\n",
    "\n",
    "-Yang"
   ]
  },
  {
   "cell_type": "code",
   "execution_count": 1,
   "id": "5cf89382",
   "metadata": {},
   "outputs": [
    {
     "name": "stderr",
     "output_type": "stream",
     "text": [
      "/Users/edwardyao/anaconda3/lib/python3.10/site-packages/pandas/core/arrays/masked.py:60: UserWarning: Pandas requires version '1.3.6' or newer of 'bottleneck' (version '1.3.5' currently installed).\n",
      "  from pandas.core import (\n",
      "/Users/edwardyao/anaconda3/lib/python3.10/site-packages/tqdm/auto.py:22: TqdmWarning: IProgress not found. Please update jupyter and ipywidgets. See https://ipywidgets.readthedocs.io/en/stable/user_install.html\n",
      "  from .autonotebook import tqdm as notebook_tqdm\n"
     ]
    }
   ],
   "source": [
    "import os \n",
    "import re\n",
    "import pandas as pd\n",
    "import numpy as np\n",
    "import matplotlib.pyplot as plt\n",
    "import seaborn as sns\n",
    "\n",
    "from sklearn import preprocessing\n",
    "from sklearn import decomposition\n",
    "from sklearn.model_selection import train_test_split\n",
    "from sklearn.metrics import accuracy_score, balanced_accuracy_score, f1_score, mean_squared_error, mean_absolute_error\n",
    "\n",
    "import torch\n",
    "import torch.nn as nn\n",
    "import torch.nn.functional as F\n",
    "import optuna\n",
    "from optuna.samplers import TPESampler\n",
    "from optuna.trial import TrialState"
   ]
  },
  {
   "cell_type": "code",
   "execution_count": 2,
   "id": "994d00bc",
   "metadata": {},
   "outputs": [
    {
     "name": "stdout",
     "output_type": "stream",
     "text": [
      "You are using device: cpu\n"
     ]
    }
   ],
   "source": [
    "# setting the device\n",
    "device = torch.device('mps' if torch.backends.mps.is_available() else 'cpu')\n",
    "PYTORCH_ENABLE_MPS_FALLBACK=1\n",
    "print(\"You are using device: %s\" % device)"
   ]
  },
  {
   "cell_type": "code",
   "execution_count": 3,
   "id": "195d4727",
   "metadata": {},
   "outputs": [],
   "source": [
    "# setting up data for pytorch\n",
    "\n",
    "class CensusData(torch.utils.data.Dataset):\n",
    "    \n",
    "    def __init__(self, ind_vars, dep_var):\n",
    "        \n",
    "        self.ind_vars = ind_vars\n",
    "        self.dep_var = dep_var\n",
    "        \n",
    "    def __len__(self):\n",
    "        return len(self.dep_var)\n",
    "    \n",
    "    def __getitem__(self, idx):\n",
    "        datapoint = self.ind_vars[idx]\n",
    "        response = self.dep_var[idx]\n",
    "        \n",
    "        return datapoint, response\n",
    "        "
   ]
  },
  {
   "cell_type": "markdown",
   "id": "fd24cf18",
   "metadata": {},
   "source": [
    "### Note to user on data\n",
    "Only \"normalized_percents.csv\" was used, however depending on how you set up your directory and where this data is for you, it may be necessary to edit the path to load the data."
   ]
  },
  {
   "cell_type": "code",
   "execution_count": 4,
   "id": "70152344",
   "metadata": {},
   "outputs": [],
   "source": [
    "# load in the data as df\n",
    "pwd = os.getcwd()\n",
    "#print(pwd)\n",
    "\n",
    "data = pd.read_csv(pwd+'/data/normalized_percents.csv')\n",
    "\n",
    "# change all column names to lowercase\n",
    "data.columns = data.columns.str.lower()\n",
    "\n",
    "# drop 2001 since income 0 and also drop rows where income is 0\n",
    "data = data[data['year'] != 2001]\n",
    "data = data[data['total annual income (£)'] != 0]\n",
    "\n",
    "#zero = set(data[data['year'] == 2001]['msoa code'].tolist())\n",
    "one = set(data[data['year'] == 2011]['msoa code'].tolist())\n",
    "two = set(data[data['year'] == 2021]['msoa code'].tolist())\n",
    "\n",
    "common_index = one.intersection(two)\n",
    "mask = data['msoa code'].isin(common_index)\n",
    "data = data[mask]\n",
    "\n",
    "# creating summed column of higher occupation for pca score later\n",
    "occ_pat = '(^occupation:\\smanager.*)|(^occupation.*professional.*)'\n",
    "    \n",
    "occ_match = re.compile(occ_pat)\n",
    "co = [c for c in data.columns.tolist() if occ_match.match(c)]\n",
    "\n",
    "data['higher_occupation'] = data[co].sum(axis=1)\n",
    "\n",
    "#print(len(data))\n",
    "\n",
    "# check the column names \n",
    "#cols = data.columns.tolist()\n",
    "#cols # doesn't look like SES score is there\n",
    "#print(len(data)) 9779 rows in original data\n",
    "\n",
    "# load the ses scores\n",
    "#ses_data = pd.read_csv(pwd+'/data/scores.csv')"
   ]
  },
  {
   "cell_type": "code",
   "execution_count": 5,
   "id": "5e928dfc",
   "metadata": {
    "scrolled": true
   },
   "outputs": [],
   "source": [
    "# dropping the separate higher occupation percent columns\n",
    "data.drop('higher_occupation', axis=1, inplace=True)\n",
    "#print(data.columns.tolist())"
   ]
  },
  {
   "cell_type": "markdown",
   "id": "c038d213",
   "metadata": {},
   "source": [
    "# Experiment 1\n",
    "Scaling data using all years and all cities in one. Train on change between 2001 and 2011. Then test on 2021. Include the PCA variables in the training data.\n"
   ]
  },
  {
   "cell_type": "code",
   "execution_count": 6,
   "id": "36e64f3e",
   "metadata": {},
   "outputs": [],
   "source": [
    "# scaling - log transform on income and then scaling introduces 82 rows == 0\n",
    "\n",
    "# set pincode to index\n",
    "exp1_data = data.set_index('msoa code')\n",
    "#print(exp1_data.year)\n",
    "\n",
    "# turn the year column into a string\n",
    "exp1_data['year'] = exp1_data['year'].astype(str)\n",
    "\n",
    "# get log of income and house price\n",
    "exp1_data['median house price'] = np.log(exp1_data['median house price'])\n",
    "exp1_data['total annual income (£)'] = np.log(exp1_data['total annual income (£)'])\n",
    "\n",
    "# get the non-numeric cols\n",
    "exp1_nonnumeric = exp1_data.select_dtypes(include='object') # has 9779 rows\n",
    "\n",
    "# get numeric columns only NEED TO EXCLUDE YEAR\n",
    "exp1_numeric = exp1_data.select_dtypes(include='number')\n",
    "#print(len(exp1_numeric.columns))\n",
    "scaler = preprocessing.RobustScaler().fit(exp1_numeric)\n",
    "exp1_scaled = scaler.transform(exp1_numeric) # still maintains 9779 rows\n",
    "exp1_numeric = pd.DataFrame(exp1_scaled, index=exp1_numeric.index, columns=exp1_numeric.columns) # 9779 rows\n",
    "exp1_numeric['year'] = exp1_nonnumeric['year']\n",
    "#print(exp1_numeric['year'].head())\n",
    "\n",
    "# merge back into single df\n",
    "exp1_processed = exp1_nonnumeric.merge(exp1_numeric, how='inner', on=['msoa code', 'year'])\n",
    "\n",
    "#print(len(exp1_processed))"
   ]
  },
  {
   "cell_type": "code",
   "execution_count": 7,
   "id": "35d89a75",
   "metadata": {},
   "outputs": [
    {
     "name": "stdout",
     "output_type": "stream",
     "text": [
      "           year  \\\n",
      "msoa code         \n",
      "E02000001  2011   \n",
      "E02000002  2011   \n",
      "E02000003  2011   \n",
      "E02000004  2011   \n",
      "E02000005  2011   \n",
      "\n",
      "           highest level of qualification: level 4 qualifications or above  \\\n",
      "msoa code                                                                    \n",
      "E02000001                                           2.079763                 \n",
      "E02000002                                          -0.578862                 \n",
      "E02000003                                          -0.300022                 \n",
      "E02000004                                          -0.595959                 \n",
      "E02000005                                          -0.610861                 \n",
      "\n",
      "           median house price  total annual income (£)  \n",
      "msoa code                                               \n",
      "E02000001            1.047336                 1.408548  \n",
      "E02000002           -0.047193                -0.340952  \n",
      "E02000003            0.045389                 0.204377  \n",
      "E02000004            0.007686                 0.069959  \n",
      "E02000005           -0.183059                 0.000000  \n"
     ]
    },
    {
     "name": "stderr",
     "output_type": "stream",
     "text": [
      "/var/folders/47/vfwtfrrs15l9jrx68sw2gdww0000gn/T/ipykernel_16174/3307025896.py:11: SettingWithCopyWarning: \n",
      "A value is trying to be set on a copy of a slice from a DataFrame\n",
      "\n",
      "See the caveats in the documentation: https://pandas.pydata.org/pandas-docs/stable/user_guide/indexing.html#returning-a-view-versus-a-copy\n",
      "  ses_vars.sort_values(by=['year','msoa code'], ascending=True, inplace=True)\n"
     ]
    }
   ],
   "source": [
    "# creating the df of variables to create ses score\n",
    "\n",
    "pattern = '(year)|(.*level 4.*)|(.*price.*)|(.*income.*)|(higher_occupation)'\n",
    "    \n",
    "m = re.compile(pattern)\n",
    "cols = [c for c in data.columns.tolist() if m.match(c)]\n",
    "#print(cols)\n",
    "\n",
    "ses_vars = exp1_processed[cols]\n",
    "\n",
    "ses_vars.sort_values(by=['year','msoa code'], ascending=True, inplace=True)\n",
    "#print(ses_vars.head())\n",
    "\n",
    "\n",
    "#print(ses_vars.head())"
   ]
  },
  {
   "cell_type": "markdown",
   "id": "7919df6f",
   "metadata": {},
   "source": [
    "### PCA and Results"
   ]
  },
  {
   "cell_type": "code",
   "execution_count": 9,
   "id": "d812f2ac",
   "metadata": {},
   "outputs": [
    {
     "name": "stdout",
     "output_type": "stream",
     "text": [
      "           ses_score_11  ses_score_21\n",
      "msoa code                            \n",
      "E02000001      2.525239      3.359740\n",
      "E02000002     -0.672514      0.185294\n",
      "E02000003     -0.144910      0.592007\n",
      "E02000004     -0.418768      0.563315\n",
      "E02000005     -0.575937      0.419955\n"
     ]
    }
   ],
   "source": [
    "# pca for ses score\n",
    "ses_np_scaled = ses_vars.drop('year', axis=1).to_numpy()\n",
    "\n",
    "pca = decomposition.PCA(n_components=1, random_state=16)\n",
    "pca.fit(ses_np_scaled)\n",
    "\n",
    "first_comp = pca.transform(ses_np_scaled)\n",
    "\n",
    "num_msoa_year = len(ses_vars) // 2\n",
    "#print(type(num_msoa_year))\n",
    "\n",
    "scores11 = first_comp[ :num_msoa_year]\n",
    "scores21 = first_comp[num_msoa_year: ]\n",
    "#scores21 = first_comp[2*num_msoa_year: ]\n",
    "\n",
    "assert len(scores11) + len(scores21) == len(ses_vars), 'scores and ses_vars differ in num rows'\n",
    "\n",
    "# change from np arrays to df and add the index\n",
    "#ses_vars01 = ses_vars[ses_vars['year'] == 2001]\n",
    "ses_vars11 = ses_vars[ses_vars['year'] == '2011']\n",
    "ses_vars21 = ses_vars[ses_vars['year'] == '2021']\n",
    "\n",
    "#scores01 = pd.DataFrame(scores01, index=ses_vars01.index)\n",
    "#scores01 = scores01.rename(columns={0: 'ses_score'})\n",
    "scores11 = pd.DataFrame(scores11, index=ses_vars11.index)\n",
    "scores11 = scores11.rename(columns={0: 'ses_score'})\n",
    "scores21 = pd.DataFrame(scores21, index=ses_vars21.index)\n",
    "scores21 = scores21.rename(columns={0: 'ses_score'})\n",
    "\n",
    "scores_combined = scores11.merge(scores21, how='inner',on='msoa code',suffixes=['_11', '_21'])\n",
    "#scores_combined = scores_combined.rename(columns={'ses_score':'ses_score_21'})\n",
    "#print(scores_combined.head())"
   ]
  },
  {
   "cell_type": "code",
   "execution_count": 10,
   "id": "ec5988c0",
   "metadata": {},
   "outputs": [
    {
     "data": {
      "text/plain": [
       "array([[0.59562406, 0.56977458, 0.56620572]])"
      ]
     },
     "execution_count": 10,
     "metadata": {},
     "output_type": "execute_result"
    }
   ],
   "source": [
    "#pca.components_"
   ]
  },
  {
   "cell_type": "markdown",
   "id": "ddd82548",
   "metadata": {},
   "source": [
    "### Density of SES Scores by Year\n",
    "The distributions are right skewed"
   ]
  },
  {
   "cell_type": "code",
   "execution_count": 11,
   "id": "f5f0a590",
   "metadata": {},
   "outputs": [
    {
     "name": "stderr",
     "output_type": "stream",
     "text": [
      "/var/folders/47/vfwtfrrs15l9jrx68sw2gdww0000gn/T/ipykernel_16174/1643501140.py:6: FutureWarning: \n",
      "\n",
      "`shade` is now deprecated in favor of `fill`; setting `fill=True`.\n",
      "This will become an error in seaborn v0.14.0; please update your code.\n",
      "\n",
      "  sns.kdeplot(scores_combined['ses_score_11'], shade=True, ax=axes[0])\n",
      "/var/folders/47/vfwtfrrs15l9jrx68sw2gdww0000gn/T/ipykernel_16174/1643501140.py:9: FutureWarning: \n",
      "\n",
      "`shade` is now deprecated in favor of `fill`; setting `fill=True`.\n",
      "This will become an error in seaborn v0.14.0; please update your code.\n",
      "\n",
      "  sns.kdeplot(scores_combined['ses_score_21'], shade=True, ax=axes[1])\n"
     ]
    },
    {
     "data": {
      "image/png": "[encoded data removed]",
      "text/plain": [
       "<Figure size 1000x500 with 2 Axes>"
      ]
     },
     "metadata": {},
     "output_type": "display_data"
    }
   ],
   "source": [
    "# look at the density of scores each year\n",
    "fig, axes = plt.subplots(1, 2, figsize=(10, 5), sharex=True, sharey=True)\n",
    "#sns.kdeplot(scores_combined['ses_score_01'], shade=True, ax=axes[0])\n",
    "#axes[0].set_title(\"2001\")\n",
    "\n",
    "sns.kdeplot(scores_combined['ses_score_11'], shade=True, ax=axes[0])\n",
    "axes[0].set_title(\"2011\")\n",
    "\n",
    "sns.kdeplot(scores_combined['ses_score_21'], shade=True, ax=axes[1])\n",
    "axes[1].set_title(\"2021\")\n",
    "\n",
    "plt.tight_layout()\n",
    "plt.show()"
   ]
  },
  {
   "cell_type": "markdown",
   "id": "87e788ce",
   "metadata": {},
   "source": [
    "### Processing the data for modeling"
   ]
  },
  {
   "cell_type": "code",
   "execution_count": 12,
   "id": "b8d4d38f",
   "metadata": {},
   "outputs": [],
   "source": [
    "# takes into account negatives and gives correct change\n",
    "#scores_combined['ses_diff_01_11'] = scores_combined['ses_score_11'] - scores_combined['ses_score_01']\n",
    "scores_combined['ses_diff_11_21'] = scores_combined['ses_score_21'] - scores_combined['ses_score_11']"
   ]
  },
  {
   "cell_type": "code",
   "execution_count": 13,
   "id": "f315f404",
   "metadata": {},
   "outputs": [],
   "source": [
    "# combine processed data and score \n",
    "#dep_01_11 = pd.DataFrame(scores_combined['score_sd_01_11'])\n",
    "#y = pd.DataFrame(['2001']*len(dep_01_11), index=dep_01_11.index)\n",
    "#dep_01_11 = dep_01_11.merge(y, how='inner', on='msoa code')\n",
    "#dep_01_11.rename(columns={'score_sd_01_11': 'y_var', 0: 'year'}, inplace=True)\n",
    "\n",
    "dep_11_21 = pd.DataFrame(scores_combined['ses_diff_11_21'])\n",
    "y = pd.DataFrame(['2011']*len(dep_11_21), index=dep_11_21.index)\n",
    "dep_11_21 = dep_11_21.merge(y, how='inner', on='msoa code')\n",
    "dep_11_21.rename(columns={'ses_diff_11_21': 'y_var', 0: 'year'}, inplace=True)\n",
    "\n",
    "#dep_df = pd.concat((dep_01_11, dep_11_21))\n",
    "\n",
    "# drop 2021 rows in exp1\n",
    "data_processed = exp1_processed[exp1_processed['year'] != '2021']\n",
    "\n",
    "# combine dependent and ind vars\n",
    "data_processed = data_processed.merge(dep_11_21, how='inner', on=['msoa code', 'year'])\n"
   ]
  },
  {
   "cell_type": "code",
   "execution_count": 14,
   "id": "fdea5666",
   "metadata": {},
   "outputs": [],
   "source": [
    "# get 2011 data and do train test split\n",
    "#data_proc_2001 = data_processed[data_processed['year'] == '2001']\n",
    "\n",
    "# get the data ready for modeling\n",
    "\n",
    "# drop the year column\n",
    "data_processed = data_processed.drop(['year', 'msoa name', 'city code', 'city name'], axis=1)\n",
    "X = data_processed.loc[:, data_processed.columns != 'y_var'].to_numpy()\n",
    "y = data_processed['y_var'].to_numpy()\n",
    "\n",
    "# split data into training and testing \n",
    "X_t, X_test, y_t, y_test = train_test_split(X, y, test_size=0.2, random_state=386)\n",
    "\n",
    "X_train, X_valid, y_train, y_valid = train_test_split(X_t, y_t, test_size=0.2, random_state=440)"
   ]
  },
  {
   "cell_type": "code",
   "execution_count": 15,
   "id": "0d56909e",
   "metadata": {},
   "outputs": [],
   "source": [
    "# init the pytorch dataset class\n",
    "dataset_params = {'batch_size': 64,\n",
    "                 'shuffle': True}\n",
    "\n",
    "\n",
    "training_data_2011 = CensusData(X_train, y_train)\n",
    "training_loader_2011 = torch.utils.data.DataLoader(training_data_2011, **dataset_params)\n",
    "\n",
    "valid_data_2011 = CensusData(X_valid, y_valid)\n",
    "valid_loader_2011 = torch.utils.data.DataLoader(valid_data_2011, **dataset_params)\n"
   ]
  },
  {
   "cell_type": "markdown",
   "id": "a35d4ef6",
   "metadata": {},
   "source": [
    "### Setting up Optuna Trials and Getting Best Model"
   ]
  },
  {
   "cell_type": "code",
   "execution_count": 16,
   "id": "b88d5e03",
   "metadata": {},
   "outputs": [],
   "source": [
    "# set up hyperparameters in optuna trial\n",
    "def define_model(trial):\n",
    "    \n",
    "    n_layers = trial.suggest_int(\"n_layers\", 1, 6)\n",
    "    layers = []\n",
    "    \n",
    "    in_features = X_train.shape[1]\n",
    "\n",
    "    for l in range(n_layers):\n",
    "        out_features = trial.suggest_int(name=\"n_units_l{}\".format(l), low=10, high=160, step=5)\n",
    "        layers.append(nn.Linear(in_features, out_features))\n",
    "        layers.append(nn.Tanh())\n",
    "        p = trial.suggest_float(name=\"dropout_l{}\".format(l), low=0.2, high=0.5, step=0.1)\n",
    "        layers.append(nn.Dropout(p))\n",
    "        \n",
    "        in_features = out_features\n",
    "    \n",
    "    layers.append(nn.Linear(in_features, 1))\n",
    "    \n",
    "    return nn.Sequential(*layers)"
   ]
  },
  {
   "cell_type": "code",
   "execution_count": 17,
   "id": "94d5f52a",
   "metadata": {},
   "outputs": [],
   "source": [
    "# running optuna where objective is a class so I can get the best model\n",
    "mse_loss = nn.MSELoss()\n",
    "EPOCHS = 100\n",
    "\n",
    "class Objective:\n",
    "    \n",
    "    def __init__(self, train_data_loader, valid_data_loader, defined_model):\n",
    "        \n",
    "        self.best_booster = None\n",
    "        self._booster = None\n",
    "        self.train_loader = train_data_loader\n",
    "        self.valid_loader = valid_data_loader\n",
    "        self.define_model = defined_model\n",
    "        \n",
    "    def __call__(self, trial):\n",
    "        \n",
    "        model = self.define_model(trial).to(device)\n",
    "    \n",
    "        lr = trial.suggest_float(name=\"lr\", low=1e-5, high=1e-1, log=True)\n",
    "        optimizer = torch.optim.Adam(model.parameters(), lr=lr)\n",
    "        \n",
    "        for epoch in range(EPOCHS):\n",
    "        \n",
    "            model.train()\n",
    "            for batch_idx, (data, target) in enumerate(self.train_loader):\n",
    "                data, target = data.view(data.size(0), -1).to(device), target.to(device)\n",
    "        \n",
    "                optimizer.zero_grad() # reset gradients so they don't accumulate\n",
    "                output = model(data.float())\n",
    "                loss = mse_loss(output, target.float())\n",
    "                loss.backward()\n",
    "                optimizer.step()\n",
    "    \n",
    "            epoch_mse = 0.0\n",
    "            model.eval()\n",
    "            with torch.no_grad(): # don't store gradients\n",
    "                for b_idx, (d, t) in enumerate(self.valid_loader):\n",
    "                    d, t = d.view(d.size(0), -1).to(device), t.to(device)\n",
    "                    pred = model(d.float())\n",
    "        \n",
    "                    valid_loss = mse_loss(pred, target.float())\n",
    "                    epoch_mse += valid_loss\n",
    "    \n",
    "            trial.report(epoch_mse, epoch)\n",
    "        \n",
    "            if trial.should_prune():\n",
    "                raise optuna.exceptions.TrialPruned()\n",
    "                \n",
    "        self._booster = model\n",
    "        \n",
    "        return epoch_mse\n",
    "    \n",
    "    def callback(self, study, trial):\n",
    "        \n",
    "        if study.best_trial == trial:\n",
    "            self.best_booster = self._booster"
   ]
  },
  {
   "cell_type": "markdown",
   "id": "b1874923",
   "metadata": {},
   "source": [
    "### Running optuna trial to predict change in SES score"
   ]
  },
  {
   "cell_type": "code",
   "execution_count": 18,
   "id": "a2c1d929",
   "metadata": {
    "scrolled": true
   },
   "outputs": [
    {
     "name": "stderr",
     "output_type": "stream",
     "text": [
      "[I 2024-04-19 16:55:32,743] A new study created in memory with name: no-name-5f7d7d38-114c-4296-8889-7722d239cf36\n",
      "/Users/edwardyao/anaconda3/lib/python3.10/site-packages/torch/nn/modules/loss.py:530: UserWarning: Using a target size (torch.Size([64])) that is different to the input size (torch.Size([64, 1])). This will likely lead to incorrect results due to broadcasting. Please ensure they have the same size.\n",
      "  return F.mse_loss(input, target, reduction=self.reduction)\n",
      "/Users/edwardyao/anaconda3/lib/python3.10/site-packages/torch/nn/modules/loss.py:530: UserWarning: Using a target size (torch.Size([55])) that is different to the input size (torch.Size([55, 1])). This will likely lead to incorrect results due to broadcasting. Please ensure they have the same size.\n",
      "  return F.mse_loss(input, target, reduction=self.reduction)\n",
      "/Users/edwardyao/anaconda3/lib/python3.10/site-packages/torch/nn/modules/loss.py:530: UserWarning: Using a target size (torch.Size([55])) that is different to the input size (torch.Size([64, 1])). This will likely lead to incorrect results due to broadcasting. Please ensure they have the same size.\n",
      "  return F.mse_loss(input, target, reduction=self.reduction)\n",
      "/Users/edwardyao/anaconda3/lib/python3.10/site-packages/torch/nn/modules/loss.py:530: UserWarning: Using a target size (torch.Size([55])) that is different to the input size (torch.Size([62, 1])). This will likely lead to incorrect results due to broadcasting. Please ensure they have the same size.\n",
      "  return F.mse_loss(input, target, reduction=self.reduction)\n",
      "[I 2024-04-19 16:56:12,960] Trial 0 finished with value: 0.8353148698806763 and parameters: {'n_layers': 2, 'n_units_l0': 155, 'dropout_l0': 0.5, 'n_units_l1': 70, 'dropout_l1': 0.4, 'lr': 0.0032821341486575714}. Best is trial 0 with value: 0.8353148698806763.\n",
      "[I 2024-04-19 16:56:31,658] Trial 1 finished with value: 0.46854424476623535 and parameters: {'n_layers': 1, 'n_units_l0': 35, 'dropout_l0': 0.30000000000000004, 'lr': 0.00011713044537631345}. Best is trial 1 with value: 0.46854424476623535.\n",
      "[I 2024-04-19 16:57:30,445] Trial 2 finished with value: 0.63878333568573 and parameters: {'n_layers': 4, 'n_units_l0': 50, 'dropout_l0': 0.5, 'n_units_l1': 155, 'dropout_l1': 0.4, 'n_units_l2': 55, 'dropout_l2': 0.5, 'n_units_l3': 85, 'dropout_l3': 0.5, 'lr': 0.012172838451890667}. Best is trial 1 with value: 0.46854424476623535.\n",
      "[I 2024-04-19 16:57:54,310] Trial 3 finished with value: 0.6891508102416992 and parameters: {'n_layers': 3, 'n_units_l0': 40, 'dropout_l0': 0.30000000000000004, 'n_units_l1': 10, 'dropout_l1': 0.4, 'n_units_l2': 25, 'dropout_l2': 0.2, 'lr': 5.221036046331068e-05}. Best is trial 1 with value: 0.46854424476623535.\n",
      "[I 2024-04-19 16:58:26,302] Trial 4 finished with value: 0.5295636057853699 and parameters: {'n_layers': 3, 'n_units_l0': 25, 'dropout_l0': 0.2, 'n_units_l1': 35, 'dropout_l1': 0.4, 'n_units_l2': 70, 'dropout_l2': 0.5, 'lr': 0.011934101606820097}. Best is trial 1 with value: 0.46854424476623535.\n",
      "[I 2024-04-19 16:58:26,547] Trial 5 pruned. \n",
      "[I 2024-04-19 16:58:26,912] Trial 6 pruned. \n",
      "[I 2024-04-19 16:58:27,200] Trial 7 pruned. \n",
      "[I 2024-04-19 16:58:29,926] Trial 8 finished with value: 0.5985965132713318 and parameters: {'n_layers': 5, 'n_units_l0': 15, 'dropout_l0': 0.2, 'n_units_l1': 20, 'dropout_l1': 0.2, 'n_units_l2': 40, 'dropout_l2': 0.2, 'n_units_l3': 10, 'dropout_l3': 0.5, 'n_units_l4': 60, 'dropout_l4': 0.4, 'lr': 0.019745996338011263}. Best is trial 1 with value: 0.46854424476623535.\n",
      "[I 2024-04-19 16:59:15,354] Trial 9 finished with value: 0.5441607236862183 and parameters: {'n_layers': 3, 'n_units_l0': 70, 'dropout_l0': 0.5, 'n_units_l1': 70, 'dropout_l1': 0.4, 'n_units_l2': 95, 'dropout_l2': 0.5, 'lr': 0.0008793195863063837}. Best is trial 1 with value: 0.46854424476623535.\n",
      "[I 2024-04-19 16:59:16,290] Trial 10 pruned. \n",
      "[I 2024-04-19 16:59:16,446] Trial 11 pruned. \n",
      "[I 2024-04-19 16:59:18,488] Trial 12 pruned. \n",
      "[I 2024-04-19 16:59:19,109] Trial 13 pruned. \n",
      "[I 2024-04-19 16:59:33,550] Trial 14 finished with value: 0.7628994584083557 and parameters: {'n_layers': 1, 'n_units_l0': 25, 'dropout_l0': 0.2, 'lr': 0.005517541925460436}. Best is trial 1 with value: 0.46854424476623535.\n",
      "[I 2024-04-19 17:00:18,868] Trial 15 finished with value: 1.4944576025009155 and parameters: {'n_layers': 5, 'n_units_l0': 55, 'dropout_l0': 0.30000000000000004, 'n_units_l1': 95, 'dropout_l1': 0.30000000000000004, 'n_units_l2': 10, 'dropout_l2': 0.5, 'n_units_l3': 20, 'dropout_l3': 0.4, 'n_units_l4': 25, 'dropout_l4': 0.5, 'lr': 0.04431429348147355}. Best is trial 1 with value: 0.46854424476623535.\n",
      "[I 2024-04-19 17:00:19,719] Trial 16 pruned. \n",
      "[I 2024-04-19 17:00:20,917] Trial 17 pruned. \n",
      "[I 2024-04-19 17:00:21,205] Trial 18 pruned. \n",
      "[I 2024-04-19 17:00:23,275] Trial 19 pruned. \n",
      "[I 2024-04-19 17:00:25,312] Trial 20 pruned. \n",
      "[I 2024-04-19 17:00:26,240] Trial 21 pruned. \n",
      "[I 2024-04-19 17:00:27,209] Trial 22 pruned. \n",
      "[I 2024-04-19 17:00:27,700] Trial 23 pruned. \n",
      "[I 2024-04-19 17:00:28,741] Trial 24 pruned. \n",
      "[I 2024-04-19 17:00:29,902] Trial 25 pruned. \n",
      "[I 2024-04-19 17:00:30,168] Trial 26 pruned. \n",
      "[I 2024-04-19 17:00:30,572] Trial 27 pruned. \n",
      "[I 2024-04-19 17:00:30,876] Trial 28 pruned. \n",
      "[I 2024-04-19 17:02:29,981] Trial 29 finished with value: 0.5395181775093079 and parameters: {'n_layers': 4, 'n_units_l0': 110, 'dropout_l0': 0.5, 'n_units_l1': 80, 'dropout_l1': 0.30000000000000004, 'n_units_l2': 135, 'dropout_l2': 0.30000000000000004, 'n_units_l3': 115, 'dropout_l3': 0.4, 'lr': 0.0034326428580967656}. Best is trial 1 with value: 0.46854424476623535.\n",
      "[I 2024-04-19 17:02:31,808] Trial 30 pruned. \n",
      "[I 2024-04-19 17:02:33,305] Trial 31 pruned. \n",
      "[I 2024-04-19 17:02:34,198] Trial 32 pruned. \n",
      "[I 2024-04-19 17:02:35,404] Trial 33 pruned. \n",
      "[I 2024-04-19 17:02:36,223] Trial 34 pruned. \n",
      "[I 2024-04-19 17:04:02,087] Trial 35 finished with value: 0.47684529423713684 and parameters: {'n_layers': 4, 'n_units_l0': 40, 'dropout_l0': 0.4, 'n_units_l1': 45, 'dropout_l1': 0.4, 'n_units_l2': 105, 'dropout_l2': 0.4, 'n_units_l3': 110, 'dropout_l3': 0.4, 'lr': 0.0015808967739348052}. Best is trial 1 with value: 0.46854424476623535.\n",
      "[I 2024-04-19 17:04:02,910] Trial 36 pruned. \n",
      "[I 2024-04-19 17:04:04,045] Trial 37 pruned. \n",
      "[I 2024-04-19 17:04:05,152] Trial 38 pruned. \n",
      "[I 2024-04-19 17:04:06,407] Trial 39 pruned. \n",
      "[I 2024-04-19 17:04:08,073] Trial 40 pruned. \n",
      "[I 2024-04-19 17:04:09,535] Trial 41 pruned. \n",
      "[I 2024-04-19 17:04:10,327] Trial 42 pruned. \n",
      "[I 2024-04-19 17:04:11,070] Trial 43 pruned. \n",
      "[I 2024-04-19 17:04:12,363] Trial 44 pruned. \n",
      "[I 2024-04-19 17:04:12,887] Trial 45 pruned. \n",
      "[I 2024-04-19 17:04:13,168] Trial 46 pruned. \n",
      "[I 2024-04-19 17:04:13,845] Trial 47 pruned. \n",
      "[I 2024-04-19 17:04:14,861] Trial 48 pruned. \n",
      "[I 2024-04-19 17:04:15,244] Trial 49 pruned. \n",
      "[I 2024-04-19 17:04:16,087] Trial 50 pruned. \n",
      "[I 2024-04-19 17:04:16,534] Trial 51 pruned. \n",
      "[I 2024-04-19 17:05:25,140] Trial 52 finished with value: 0.725142240524292 and parameters: {'n_layers': 5, 'n_units_l0': 35, 'dropout_l0': 0.2, 'n_units_l1': 20, 'dropout_l1': 0.2, 'n_units_l2': 35, 'dropout_l2': 0.2, 'n_units_l3': 30, 'dropout_l3': 0.5, 'n_units_l4': 60, 'dropout_l4': 0.4, 'lr': 0.022309274556009725}. Best is trial 1 with value: 0.46854424476623535.\n",
      "[I 2024-04-19 17:05:26,091] Trial 53 pruned. \n",
      "[I 2024-04-19 17:05:26,951] Trial 54 pruned. \n",
      "[I 2024-04-19 17:05:27,604] Trial 55 pruned. \n",
      "[I 2024-04-19 17:05:28,263] Trial 56 pruned. \n",
      "[I 2024-04-19 17:05:29,416] Trial 57 pruned. \n",
      "[I 2024-04-19 17:05:30,441] Trial 58 pruned. \n",
      "[I 2024-04-19 17:05:30,924] Trial 59 pruned. \n",
      "[I 2024-04-19 17:05:31,138] Trial 60 pruned. \n",
      "[I 2024-04-19 17:05:31,954] Trial 61 pruned. \n",
      "[I 2024-04-19 17:05:32,596] Trial 62 pruned. \n",
      "[I 2024-04-19 17:05:33,014] Trial 63 pruned. \n"
     ]
    },
    {
     "name": "stdout",
     "output_type": "stream",
     "text": [
      "Best Trial:\n",
      "  Params: \n",
      "    n_layers: 1\n",
      "    n_units_l0: 35\n",
      "    dropout_l0: 0.30000000000000004\n",
      "    lr: 0.00011713044537631345\n",
      "Best Model\n"
     ]
    },
    {
     "data": {
      "text/plain": [
       "Sequential(\n",
       "  (0): Linear(in_features=211, out_features=35, bias=True)\n",
       "  (1): Tanh()\n",
       "  (2): Dropout(p=0.30000000000000004, inplace=False)\n",
       "  (3): Linear(in_features=35, out_features=1, bias=True)\n",
       ")"
      ]
     },
     "execution_count": 18,
     "metadata": {},
     "output_type": "execute_result"
    }
   ],
   "source": [
    "# running optuna trial using class objective\n",
    "\n",
    "obj = Objective(training_loader_2011, valid_loader_2011, define_model)\n",
    "cls_sampler = TPESampler(seed=440)\n",
    "cls_study = optuna.create_study(direction='minimize', sampler=cls_sampler)\n",
    "cls_study.optimize(obj, n_trials=150, timeout=600, callbacks=[obj.callback])\n",
    "\n",
    "print(\"Best Trial:\")\n",
    "cls_trial = cls_study.best_trial\n",
    "\n",
    "print(\"  Params: \")\n",
    "for key, value in cls_trial.params.items():\n",
    "    print(\"    {}: {}\".format(key, value))\n",
    "\n",
    "best_model = obj.best_booster\n",
    "print(\"Best Model\")\n",
    "best_model"
   ]
  },
  {
   "cell_type": "markdown",
   "id": "47063049",
   "metadata": {},
   "source": [
    "### Exp 1 Metric Results on Train, Valid, Test"
   ]
  },
  {
   "cell_type": "code",
   "execution_count": 19,
   "id": "f1e02b7f",
   "metadata": {},
   "outputs": [],
   "source": [
    "def change_metrics(y_true, y_pred, dataset='Valid'):\n",
    "    \n",
    "    # should only pass in numpy arrays\n",
    "    \n",
    "    # calculate how many sd away each is for true\n",
    "    true_mean, true_sd = np.mean(y_true), np.std(y_true)\n",
    "    true_sd_change = (y_true - true_mean) / true_sd\n",
    "    \n",
    "    # for pred calculate how much change\n",
    "    pred_mean, pred_sd = np.mean(y_pred), np.std(y_pred)\n",
    "    pred_sd_change = (y_pred - pred_mean) / pred_sd\n",
    "    \n",
    "    true_sd_change_cls = true_sd_change >= 1.0\n",
    "    true_sd_change_cls = true_sd_change_cls.astype(int)\n",
    "    \n",
    "    pred_sd_change_cls = pred_sd_change >= 1.0\n",
    "    pred_sd_change_cls = pred_sd_change_cls.astype(int)\n",
    "    \n",
    "    y_acc = accuracy_score(true_sd_change_cls, pred_sd_change_cls)\n",
    "    y_bacc = balanced_accuracy_score(true_sd_change_cls, pred_sd_change_cls)\n",
    "    y_f1 = f1_score(true_sd_change_cls, pred_sd_change_cls)\n",
    "\n",
    "    print(f'{dataset} Accuracy: {y_acc}')\n",
    "    print(f'{dataset} Balanced Accuracy: {y_bacc}')\n",
    "    print(f'{dataset} F1: {y_f1}')"
   ]
  },
  {
   "cell_type": "code",
   "execution_count": 20,
   "id": "c8522223",
   "metadata": {},
   "outputs": [
    {
     "name": "stdout",
     "output_type": "stream",
     "text": [
      "Valid Accuracy: 0.7647058823529411\n",
      "Valid Balanced Accuracy: 0.5454785749948603\n",
      "Valid F1: 0.23076923076923078\n"
     ]
    }
   ],
   "source": [
    "# get performance metrics on 2011 - 2021 validation set\n",
    "with torch.no_grad():\n",
    "    y_valid_pred = best_model(torch.from_numpy(X_valid).float())\n",
    "    #mse_loss_valid = mse_loss(y_valid_pred, y_valid)\n",
    "\n",
    "change_metrics(y_valid, y_valid_pred.numpy())"
   ]
  },
  {
   "cell_type": "code",
   "execution_count": 21,
   "id": "d6a1b903",
   "metadata": {},
   "outputs": [
    {
     "name": "stdout",
     "output_type": "stream",
     "text": [
      "Train Accuracy: 0.7768513977439921\n",
      "Train Balanced Accuracy: 0.5703943744789806\n",
      "Train F1: 0.272\n"
     ]
    }
   ],
   "source": [
    "# train set performance\n",
    "with torch.no_grad():\n",
    "    y_train_pred = best_model(torch.from_numpy(X_train).float())\n",
    "    #mse_loss_valid = mse_loss(y_valid_pred, y_valid)\n",
    "\n",
    "change_metrics(y_train, y_train_pred.numpy(), dataset='Train')"
   ]
  },
  {
   "cell_type": "code",
   "execution_count": 22,
   "id": "d3f4eb18",
   "metadata": {},
   "outputs": [
    {
     "name": "stdout",
     "output_type": "stream",
     "text": [
      "Test Accuracy: 0.7946708463949843\n",
      "Test Balanced Accuracy: 0.5920010762607626\n",
      "Test F1: 0.30687830687830686\n"
     ]
    }
   ],
   "source": [
    "with torch.no_grad():\n",
    "    y_test_pred = best_model(torch.from_numpy(X_test).float())\n",
    "\n",
    "change_metrics(y_test, y_test_pred.numpy(), dataset='Test')"
   ]
  },
  {
   "cell_type": "markdown",
   "id": "2331495e",
   "metadata": {},
   "source": [
    "## Experiment 1.1\n",
    "Predicting SD change instead of SES Score diff"
   ]
  },
  {
   "cell_type": "code",
   "execution_count": null,
   "id": "8996e1d6",
   "metadata": {},
   "outputs": [],
   "source": [
    "def sd_metrics(y_true, y_pred, continuous=True, data='Valid'):\n",
    "    \n",
    "    if continuous:\n",
    "        y_true_class = y_true >= 1\n",
    "        y_true_class = y_true_class.astype(int)\n",
    "\n",
    "        y_pred_class = y_pred.numpy() >= 1\n",
    "        y_pred_class = y_pred_class.astype(int)\n",
    "\n",
    "        y_acc = accuracy_score(y_true_class, y_pred_class)\n",
    "        y_bacc = balanced_accuracy_score(y_true_class, y_pred_class)\n",
    "        y_f1 = f1_score(y_true_class, y_pred_class)\n",
    "\n",
    "        print(f'{data} Accuracy: {y_acc}')\n",
    "        print(f'{data} Balanced Accuracy: {y_bacc}')\n",
    "        print(f'{data} F1: {y_f1}')\n",
    "    \n",
    "    else:\n",
    "        y_acc = accuracy_score(y_true, y_pred)\n",
    "        y_bacc = balanced_accuracy_score(y_true, y_pred)\n",
    "        y_f1 = f1_score(y_true, y_pred)\n",
    "\n",
    "        print(f'{data} Accuracy: {y_acc}')\n",
    "        print(f'{data} Balanced Accuracy: {y_bacc}')\n",
    "        print(f'{data} F1: {y_f1}')"
   ]
  },
  {
   "cell_type": "code",
   "execution_count": null,
   "id": "02df7474",
   "metadata": {
    "scrolled": true
   },
   "outputs": [],
   "source": [
    "# create the sd y_var and process dataset for torch loaders\n",
    "depsd_11_21 = pd.DataFrame(scores_combined['ses_diff_11_21'])\n",
    "\n",
    "# adding year as a col\n",
    "y = pd.DataFrame(['2011']*len(depsd_11_21), index=depsd_11_21.index)\n",
    "depsd_11_21 = depsd_11_21.merge(y, how='inner', on='msoa code')\n",
    "\n",
    "# creating diff sd y_var col\n",
    "avg_diff = np.mean(depsd_11_21['ses_diff_11_21'].to_numpy())\n",
    "sd_diff = np.std(depsd_11_21['ses_diff_11_21'].to_numpy())\n",
    "depsd_11_21['y_var'] = (depsd_11_21['ses_diff_11_21'] - avg_diff) / sd_diff\n",
    "\n",
    "depsd_11_21.rename(columns={0: 'year'}, inplace=True)\n",
    "\n",
    "# dropping diff col\n",
    "depsd_11_21.drop('ses_diff_11_21', axis=1, inplace=True)\n",
    "\n",
    "# drop 2021 rows in exp1\n",
    "data_sd = exp1_processed[exp1_processed['year'] != '2021']\n",
    "\n",
    "# combine dependent and ind vars\n",
    "data_sd = data_sd.merge(depsd_11_21, how='inner', on=['msoa code', 'year'])\n",
    "\n",
    "#print(data_sd.head())"
   ]
  },
  {
   "cell_type": "code",
   "execution_count": null,
   "id": "1390a380",
   "metadata": {},
   "outputs": [],
   "source": [
    "# train valid test split\n",
    "data_sd = data_sd.drop(['year', 'msoa name', 'city code', 'city name'], axis=1)\n",
    "X_sd = data_sd.loc[:, data_sd.columns != 'y_var'].to_numpy()\n",
    "y_sd = data_sd['y_var'].to_numpy()\n",
    "\n",
    "X_tt, X_test_sd, y_tt, y_test_sd = train_test_split(X_sd, y_sd, test_size=0.2, random_state=186)\n",
    "X_train_sd, X_valid_sd, y_train_sd, y_valid_sd = train_test_split(X_sd, y_sd, test_size=0.2, random_state=186)"
   ]
  },
  {
   "cell_type": "code",
   "execution_count": null,
   "id": "ae93a566",
   "metadata": {},
   "outputs": [],
   "source": [
    "# init data and dataloader for new dataset\n",
    "\n",
    "train_data_2011_sd = CensusData(X_train_sd, y_train_sd)\n",
    "train_loader_2011_sd = torch.utils.data.DataLoader(train_data_2011_sd, **dataset_params)\n",
    "\n",
    "valid_data_2011_sd = CensusData(X_valid_sd, y_valid_sd)\n",
    "valid_loader_2011_sd = torch.utils.data.DataLoader(valid_data_2011_sd, **dataset_params)"
   ]
  },
  {
   "cell_type": "code",
   "execution_count": null,
   "id": "7cf977ab",
   "metadata": {},
   "outputs": [],
   "source": [
    "obj1_1 = Objective(train_loader_2011_sd, valid_loader_2011_sd, define_model)\n",
    "cls1_1_study = optuna.create_study(direction='minimize', sampler=cls_sampler)\n",
    "cls1_1_study.optimize(obj1_1, n_trials=200, timeout=600, callbacks=[obj1_1.callback])\n",
    "\n",
    "print(\"Best Trial:\")\n",
    "cls1_1_trial = cls1_1_study.best_trial\n",
    "\n",
    "print(\"  Params: \")\n",
    "for key, value in cls1_1_trial.params.items():\n",
    "    print(\"    {}: {}\".format(key, value))\n",
    "\n",
    "best_model1_1 = obj1_1.best_booster\n",
    "print(\"Best Model\")\n",
    "best_model1_1"
   ]
  },
  {
   "cell_type": "code",
   "execution_count": null,
   "id": "7b1a85d3",
   "metadata": {},
   "outputs": [],
   "source": [
    "# sd train metrics\n",
    "with torch.no_grad():\n",
    "    y_sd_train_pred = best_model1_1(torch.from_numpy(X_train_sd).float())\n",
    "\n",
    "sd_metrics(y_train_sd, y_sd_train_pred, data='Train')"
   ]
  },
  {
   "cell_type": "markdown",
   "id": "456ae148",
   "metadata": {},
   "source": [
    "# Experiment 2\n",
    "Subsetting data to the 3 largets cities in England: London, Manchester, Birmingham\n",
    "\n",
    "Need to redo scaling and creation of SES score"
   ]
  },
  {
   "cell_type": "code",
   "execution_count": null,
   "id": "7cc12f1b",
   "metadata": {},
   "outputs": [],
   "source": [
    "# scaling - log transform on income and then scaling introduces 82 rows == 0\n",
    "\n",
    "# set pincode to index\n",
    "exp2_data = data.set_index('msoa code')\n",
    "#print(exp1_data.year)\n",
    "\n",
    "# drop all cities except london, manchester, and birmingham\n",
    "cities = ['Birmingham', 'Manchester', 'London']\n",
    "mask = exp2_data['city name'].isin(cities)\n",
    "exp2_data = exp2_data[mask]\n",
    "\n",
    "# turn the year column into a string\n",
    "exp2_data['year'] = exp2_data['year'].astype(str)\n",
    "\n",
    "# get log of income and house price\n",
    "exp2_data['median house price'] = np.log(exp2_data['median house price'])\n",
    "exp2_data['total annual income (£)'] = np.log(exp2_data['total annual income (£)'])\n",
    "\n",
    "# get the non-numeric cols\n",
    "exp2_nonnumeric = exp2_data.select_dtypes(include='object') # has 9779 rows\n",
    "\n",
    "# get numeric columns only NEED TO EXCLUDE YEAR\n",
    "exp2_numeric = exp2_data.select_dtypes(include='number')\n",
    "#print(len(exp1_numeric.columns))\n",
    "scaler = preprocessing.RobustScaler().fit(exp2_numeric)\n",
    "exp2_scaled = scaler.transform(exp2_numeric) # still maintains 9779 rows\n",
    "exp2_numeric = pd.DataFrame(exp2_scaled, index=exp2_numeric.index, columns=exp2_numeric.columns) # 9779 rows\n",
    "exp2_numeric['year'] = exp2_nonnumeric['year']\n",
    "#print(exp1_numeric['year'].head())\n",
    "\n",
    "# merge back into single df\n",
    "exp2_processed = exp2_nonnumeric.merge(exp2_numeric, how='inner', on=['msoa code', 'year'])\n",
    "\n",
    "#print(len(exp1_processed))"
   ]
  },
  {
   "cell_type": "markdown",
   "id": "07d38512",
   "metadata": {},
   "source": [
    "### Creating DF of Vars for SES Score"
   ]
  },
  {
   "cell_type": "code",
   "execution_count": null,
   "id": "61afdee9",
   "metadata": {},
   "outputs": [],
   "source": [
    "# creating the df of variables to create ses score\n",
    "\n",
    "pattern = '(year)|(.*level 4.*)|(.*price.*)|(.*income.*)|(higher_occupation)'\n",
    "    \n",
    "m = re.compile(pattern)\n",
    "cols = [c for c in data.columns.tolist() if m.match(c)]\n",
    "#print(cols)\n",
    "\n",
    "ses2_vars = exp2_processed[cols]\n",
    "\n",
    "ses2_vars.sort_values(by=['year','msoa code'], ascending=True, inplace=True)\n",
    "#print(ses_vars.head())\n",
    "\n",
    "\n",
    "print(ses_vars.head())"
   ]
  },
  {
   "cell_type": "markdown",
   "id": "492c3f2e",
   "metadata": {},
   "source": [
    "### PCA "
   ]
  },
  {
   "cell_type": "code",
   "execution_count": null,
   "id": "9cfc9a63",
   "metadata": {},
   "outputs": [],
   "source": [
    "# pca for ses score\n",
    "ses2_np_scaled = ses2_vars.drop('year', axis=1).to_numpy()\n",
    "\n",
    "pca2 = decomposition.PCA(n_components=1, random_state=16)\n",
    "pca2.fit(ses2_np_scaled)\n",
    "\n",
    "first2_comp = pca2.transform(ses2_np_scaled)\n",
    "\n",
    "num_msoa_year = len(ses2_vars) // 2\n",
    "#print(type(num_msoa_year))\n",
    "\n",
    "scores11_2 = first2_comp[ :num_msoa_year]\n",
    "scores21_2 = first2_comp[num_msoa_year: ]\n",
    "#scores21 = first_comp[2*num_msoa_year: ]\n",
    "\n",
    "assert len(scores11_2) + len(scores21_2) == len(ses2_vars), 'scores and ses_vars differ in num rows'\n",
    "\n",
    "# change from np arrays to df and add the index\n",
    "#ses_vars01 = ses_vars[ses_vars['year'] == 2001]\n",
    "ses2_vars11 = ses2_vars[ses2_vars['year'] == '2011']\n",
    "ses2_vars21 = ses2_vars[ses2_vars['year'] == '2021']\n",
    "\n",
    "#scores01 = pd.DataFrame(scores01, index=ses_vars01.index)\n",
    "#scores01 = scores01.rename(columns={0: 'ses_score'})\n",
    "scores11_2 = pd.DataFrame(scores11_2, index=ses2_vars11.index)\n",
    "scores11_2 = scores11_2.rename(columns={0: 'ses_score'})\n",
    "scores21_2 = pd.DataFrame(scores21_2, index=ses2_vars21.index)\n",
    "scores21_2 = scores21_2.rename(columns={0: 'ses_score'})\n",
    "\n",
    "scores2_combined = scores11_2.merge(scores21_2, how='inner',on='msoa code',suffixes=['_11', '_21'])\n",
    "#scores_combined = scores_combined.rename(columns={'ses_score':'ses_score_21'})\n",
    "print(scores2_combined.head())"
   ]
  },
  {
   "cell_type": "code",
   "execution_count": null,
   "id": "c34542e0",
   "metadata": {},
   "outputs": [],
   "source": [
    "pca2.components_"
   ]
  },
  {
   "cell_type": "code",
   "execution_count": null,
   "id": "5edcd43a",
   "metadata": {},
   "outputs": [],
   "source": [
    "# look at the density of scores each year\n",
    "fig, axes = plt.subplots(1, 2, figsize=(10, 5), sharex=True, sharey=True)\n",
    "#sns.kdeplot(scores_combined['ses_score_01'], shade=True, ax=axes[0])\n",
    "#axes[0].set_title(\"2001\")\n",
    "\n",
    "sns.kdeplot(scores2_combined['ses_score_11'], shade=True, ax=axes[0])\n",
    "axes[0].set_title(\"2011\")\n",
    "\n",
    "sns.kdeplot(scores2_combined['ses_score_21'], shade=True, ax=axes[1])\n",
    "axes[1].set_title(\"2021\")\n",
    "\n",
    "plt.tight_layout()\n",
    "plt.show()"
   ]
  },
  {
   "cell_type": "markdown",
   "id": "cc2c89bf",
   "metadata": {},
   "source": [
    "## Creating SES diff and finishing processing data for modeling"
   ]
  },
  {
   "cell_type": "code",
   "execution_count": null,
   "id": "6f14c1d7",
   "metadata": {},
   "outputs": [],
   "source": [
    "scores2_combined['ses_diff_11_21'] = scores2_combined['ses_score_21'] - scores2_combined['ses_score_11']\n",
    "\n",
    "dep_var = pd.DataFrame(scores2_combined['ses_diff_11_21'])\n",
    "year = pd.DataFrame(['2011']*len(dep_var), index=dep_var.index)\n",
    "dep_var = dep_var.merge(year, how='inner', on='msoa code')\n",
    "dep_var.rename(columns={'ses_diff_11_21': 'y_var', 0: 'year'}, inplace=True)\n",
    "\n",
    "#dep_df = pd.concat((dep_01_11, dep_11_21))\n",
    "\n",
    "# drop 2021 rows in exp1\n",
    "data_ready = exp2_processed[exp2_processed['year'] != '2021']\n",
    "\n",
    "# combine dependent and ind vars\n",
    "data_ready = data_ready.merge(dep_var, how='inner', on=['msoa code', 'year'])"
   ]
  },
  {
   "cell_type": "markdown",
   "id": "21861e16",
   "metadata": {},
   "source": [
    "### Splitting data and creating data loaders"
   ]
  },
  {
   "cell_type": "code",
   "execution_count": null,
   "id": "f0b11bd6",
   "metadata": {},
   "outputs": [],
   "source": [
    "# train valid test split\n",
    "data_proc = data_ready.drop(['year', 'msoa name', 'city code', 'city name'], axis=1)\n",
    "X_cities = data_proc.loc[:, data_proc.columns != 'y_var'].to_numpy()\n",
    "y_cities = data_proc['y_var'].to_numpy()\n",
    "\n",
    "X_c, X_test_c, y_c, y_test_c = train_test_split(X_cities, y_cities, test_size=0.2, random_state=186)\n",
    "X_train_c, X_valid_c, y_train_c, y_valid_c = train_test_split(X_c, y_c, test_size=0.2, random_state=186)"
   ]
  },
  {
   "cell_type": "code",
   "execution_count": null,
   "id": "98ee9522",
   "metadata": {},
   "outputs": [],
   "source": [
    "# init the pytorch dataset class\n",
    "\n",
    "training_data_cities = CensusData(X_train_c, y_train_c)\n",
    "training_loader_cities = torch.utils.data.DataLoader(training_data_cities, **dataset_params)\n",
    "\n",
    "valid_data_cities = CensusData(X_valid_c, y_valid_c)\n",
    "valid_loader_cities = torch.utils.data.DataLoader(valid_data_cities, **dataset_params)"
   ]
  },
  {
   "cell_type": "markdown",
   "id": "910a0f30",
   "metadata": {},
   "source": [
    "### Optuna trial to find the best model"
   ]
  },
  {
   "cell_type": "code",
   "execution_count": null,
   "id": "b940b4c7",
   "metadata": {},
   "outputs": [],
   "source": [
    "# running optuna trial using class objective\n",
    "\n",
    "obj_cities = Objective(training_loader_cities, valid_loader_cities, define_model)\n",
    "city_study = optuna.create_study(direction='minimize', sampler=cls_sampler)\n",
    "city_study.optimize(obj_cities, n_trials=150, timeout=600, callbacks=[obj_cities.callback])\n",
    "\n",
    "print(\"Best Trial:\")\n",
    "city_trial = city_study.best_trial\n",
    "\n",
    "print(\"  Params: \")\n",
    "for key, value in city_trial.params.items():\n",
    "    print(\"    {}: {}\".format(key, value))\n",
    "\n",
    "best_city_model = obj_cities.best_booster\n",
    "print(\"Best Model\")\n",
    "best_city_model"
   ]
  },
  {
   "cell_type": "markdown",
   "id": "03b75f9e",
   "metadata": {},
   "source": [
    "### Calculating performance for city model"
   ]
  },
  {
   "cell_type": "code",
   "execution_count": null,
   "id": "7ff1e138",
   "metadata": {},
   "outputs": [],
   "source": [
    "# sd train metrics\n",
    "with torch.no_grad():\n",
    "    y_train_city_pred = best_city_model(torch.from_numpy(X_train_c).float())\n",
    "\n",
    "change_metrics(y_train_c, y_train_city_pred.numpy(), dataset='Train')"
   ]
  },
  {
   "cell_type": "code",
   "execution_count": null,
   "id": "d0bdbc5a",
   "metadata": {},
   "outputs": [],
   "source": [
    "# sd train metrics\n",
    "with torch.no_grad():\n",
    "    y_valid_city_pred = best_city_model(torch.from_numpy(X_valid_c).float())\n",
    "\n",
    "change_metrics(y_valid_c, y_valid_city_pred.numpy(), dataset='Valid')"
   ]
  },
  {
   "cell_type": "code",
   "execution_count": null,
   "id": "4235003d",
   "metadata": {},
   "outputs": [],
   "source": [
    "# sd train metrics\n",
    "with torch.no_grad():\n",
    "    y_test_city_pred = best_city_model(torch.from_numpy(X_test_c).float())\n",
    "\n",
    "change_metrics(y_test_c, y_test_city_pred.numpy(), dataset='Test')"
   ]
  }
 ],
 "metadata": {
  "kernelspec": {
   "display_name": "Python 3 (ipykernel)",
   "language": "python",
   "name": "python3"
  },
  "language_info": {
   "codemirror_mode": {
    "name": "ipython",
    "version": 3
   },
   "file_extension": ".py",
   "mimetype": "text/x-python",
   "name": "python",
   "nbconvert_exporter": "python",
   "pygments_lexer": "ipython3",
   "version": "3.10.9"
  }
 },
 "nbformat": 4,
 "nbformat_minor": 5
}
