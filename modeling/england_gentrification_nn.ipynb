{
 "cells": [
  {
   "cell_type": "code",
   "execution_count": 1,
   "id": "5cf89382",
   "metadata": {},
   "outputs": [
    {
     "name": "stderr",
     "output_type": "stream",
     "text": [
      "/Users/edwardyao/anaconda3/lib/python3.10/site-packages/pandas/core/arrays/masked.py:60: UserWarning: Pandas requires version '1.3.6' or newer of 'bottleneck' (version '1.3.5' currently installed).\n",
      "  from pandas.core import (\n",
      "/Users/edwardyao/anaconda3/lib/python3.10/site-packages/tqdm/auto.py:22: TqdmWarning: IProgress not found. Please update jupyter and ipywidgets. See https://ipywidgets.readthedocs.io/en/stable/user_install.html\n",
      "  from .autonotebook import tqdm as notebook_tqdm\n"
     ]
    }
   ],
   "source": [
    "import os \n",
    "import re\n",
    "import pandas as pd\n",
    "import numpy as np\n",
    "import matplotlib.pyplot as plt\n",
    "import seaborn as sns\n",
    "\n",
    "from sklearn import preprocessing\n",
    "from sklearn import decomposition\n",
    "from sklearn.model_selection import train_test_split\n",
    "from sklearn.metrics import accuracy_score, balanced_accuracy_score, f1_score, mean_squared_error, mean_absolute_error\n",
    "\n",
    "import torch\n",
    "import torch.nn as nn\n",
    "import torch.nn.functional as F\n",
    "import optuna\n",
    "from optuna.samplers import TPESampler\n",
    "from optuna.trial import TrialState"
   ]
  },
  {
   "cell_type": "code",
   "execution_count": 2,
   "id": "994d00bc",
   "metadata": {},
   "outputs": [
    {
     "name": "stdout",
     "output_type": "stream",
     "text": [
      "You are using device: cpu\n"
     ]
    }
   ],
   "source": [
    "# setting the device\n",
    "device = torch.device('mps' if torch.backends.mps.is_available() else 'cpu')\n",
    "PYTORCH_ENABLE_MPS_FALLBACK=1\n",
    "print(\"You are using device: %s\" % device)"
   ]
  },
  {
   "cell_type": "code",
   "execution_count": 3,
   "id": "195d4727",
   "metadata": {},
   "outputs": [],
   "source": [
    "# setting up data for pytorch\n",
    "\n",
    "class CensusData(torch.utils.data.Dataset):\n",
    "    \n",
    "    def __init__(self, ind_vars, dep_var):\n",
    "        \n",
    "        self.ind_vars = ind_vars\n",
    "        self.dep_var = dep_var\n",
    "        \n",
    "    def __len__(self):\n",
    "        return len(self.dep_var)\n",
    "    \n",
    "    def __getitem__(self, idx):\n",
    "        datapoint = self.ind_vars[idx]\n",
    "        response = self.dep_var[idx]\n",
    "        \n",
    "        return datapoint, response\n",
    "        "
   ]
  },
  {
   "cell_type": "code",
   "execution_count": 23,
   "id": "70152344",
   "metadata": {},
   "outputs": [],
   "source": [
    "# load in the data as df\n",
    "pwd = os.getcwd()\n",
    "#print(pwd)\n",
    "\n",
    "data = pd.read_csv(pwd+'/data/normalized_percents.csv')\n",
    "\n",
    "# change all column names to lowercase\n",
    "data.columns = data.columns.str.lower()\n",
    "\n",
    "# drop 2001 since income 0 and also drop rows where income is 0\n",
    "data = data[data['year'] != 2001]\n",
    "data = data[data['total annual income (£)'] != 0]\n",
    "\n",
    "#zero = set(data[data['year'] == 2001]['msoa code'].tolist())\n",
    "one = set(data[data['year'] == 2011]['msoa code'].tolist())\n",
    "two = set(data[data['year'] == 2021]['msoa code'].tolist())\n",
    "\n",
    "common_index = one.intersection(two)\n",
    "mask = data['msoa code'].isin(common_index)\n",
    "data = data[mask]\n",
    "\n",
    "# creating summed column of higher occupation for pca score later\n",
    "occ_pat = '(^occupation:\\smanager.*)|(^occupation.*professional.*)'\n",
    "    \n",
    "occ_match = re.compile(occ_pat)\n",
    "co = [c for c in data.columns.tolist() if occ_match.match(c)]\n",
    "\n",
    "data['higher_occupation'] = data[co].sum(axis=1)\n",
    "\n",
    "#print(len(data))\n",
    "\n",
    "# check the column names \n",
    "#cols = data.columns.tolist()\n",
    "#cols # doesn't look like SES score is there\n",
    "#print(len(data)) 9779 rows in original data\n",
    "\n",
    "# load the ses scores\n",
    "#ses_data = pd.read_csv(pwd+'/data/scores.csv')"
   ]
  },
  {
   "cell_type": "code",
   "execution_count": 24,
   "id": "5e928dfc",
   "metadata": {
    "scrolled": true
   },
   "outputs": [
    {
     "name": "stdout",
     "output_type": "stream",
     "text": [
      "['msoa code', 'msoa name', 'city code', 'city name', 'year', 'age: 0 to 4', 'age: 10 to 14', 'age: 15 to 19', 'age: 16 years and over', 'age: 20 to 24', 'age: 25 to 29', 'age: 30 to 44', 'age: 45 to 59', 'age: 5 to 9', 'age: 60 to 64', 'age: 65 to 74', 'age: 75 to 84', 'age: 85 years and over', 'disabled under the equality act: day-to-day activities limited a little', 'disabled under the equality act: day-to-day activities limited a lot', 'economic activity: economically active', 'economic activity: economically active: employee: full-time', 'economic activity: economically active: employee: part-time', 'economic activity: economically active: full-time student', 'economic activity: economically active: in employment', 'economic activity: economically active: self-employed', 'economic activity: economically active: unemployed', 'economic activity: economically inactive', 'economic activity: economically inactive: long-term sick or disabled', 'economic activity: economically inactive: looking after home or family', 'economic activity: economically inactive: other', 'economic activity: economically inactive: retired', 'economic activity: economically inactive: student (including full-time students)', 'employment: never worked', 'ethnic group: asian, asian british or asian welsh', 'ethnic group: black, black british, black welsh, caribbean or african', 'ethnic group: mixed or multiple ethnic groups', 'ethnic group: other ethnic group', 'ethnic group: white', 'full-time: 31 to 48 hours worked', 'full-time: 49 or more hours worked', 'health status: bad health', 'health status: fair health', 'health status: good health', 'health status: very bad health', 'health status: very good health', 'highest level of qualification: apprenticeship', 'highest level of qualification: level 1 and entry level qualifications', 'highest level of qualification: level 2 qualifications', 'highest level of qualification: level 3 qualifications', 'highest level of qualification: level 4 qualifications or above', 'highest level of qualification: no qualifications', 'highest level of qualification: other qualifications', 'household spaces: caravan or other mobile or temporary structure', 'household spaces: flat, maisonette or apartment: in a commercial building', 'household spaces: flat, maisonette or apartment: part of a converted or shared house (including bed-sits)', 'household spaces: flat, maisonette or apartment: purpose-built block of flats or tenement', 'household spaces: whole house or bungalow: detached', 'household spaces: whole house or bungalow: semi-detached', 'household spaces: whole house or bungalow: terraced (including end-terrace)', 'households: number of households', 'industry: a: agriculture, forestry and fishing', 'industry: b: mining and quarrying', 'industry: c: manufacturing', 'industry: d: electricity, gas, steam and air conditioning supply', 'industry: e:  water supply; sewerage, waste management and remediation activities', 'industry: f: construction', 'industry: g: wholesale and retail trade; repair of motor vehicles and motorcycles', 'industry: h: transport and storage', 'industry: i: accommodation and food service activities', 'industry: j: information and communication', 'industry: k: financial and insurance activities', 'industry: l: real estate activities', 'industry: m: professional, scientific and technical activities', 'industry: n: administrative and support service activities', 'industry: o: public administration and defence; compulsory social security', 'industry: p: education', 'industry: q: human health and social work activities', 'industry: r, s, t, u other', 'living in a couple', 'living in a couple: cohabiting', 'living in a couple: married or in a civil partnership', 'main language: all adults in household have english in england, or english or welsh in wales as a main language', 'main language: at least one but not all adults in household have english in england, or english or welsh in wales as a main language', 'main language: no adults in household, but at least one person aged 3 to 15 years, has english in england or english or welsh in wales as a main language', 'main language: no people in household have english in england, or english or welsh in wales as a main language', 'marital status: divorced or civil partnership dissolved', 'marital status: married or in a registered civil partnership', 'marital status: never married and never registered a civil partnership', 'marital status: separated, but still legally married or still legally in a civil partnership', 'marital status: widowed or surviving civil partnership partner', 'median house price', 'medical and care establishment: local authority: care home or other home', \"medical and care establishment: local authority: children's home (including secure units)\", 'medical and care establishment: nhs: general hospital', 'medical and care establishment: nhs: mental health hospital or unit (including secure units)', 'medical and care establishment: nhs: other hospital', 'medical and care establishment: other: care home with nursing', 'medical and care establishment: other: care home without nursing', \"medical and care establishment: other: children's home (including secure units)\", 'medical and care establishment:other', 'medical and care establishment:registered social landlord or housing association', 'not disabled under the equality act: has long term physical or mental health condition but day-to-day activities are not limited', 'not living in a couple', 'not living in a couple: divorced or formerly in a civil partnership which is now legally dissolved', 'not living in a couple: married or in a registered civil partnership', 'not living in a couple: separated (including those who are married and those who are in civil partnerships)', 'not living in a couple: single (never married and never registered a civil partnership)', 'not living in a couple: widowed or surviving partner from a civil partnership', 'occupancy rating (rooms) of -1 or less', 'occupation: administrative and secretarial occupations', 'occupation: caring, leisure and other service occupations', 'occupation: elementary occupations', 'occupation: process, plant and machine operatives', 'occupation: sales and customer service occupations', 'occupation: skilled trades occupations', 'one-person household: aged 66 years and over', 'one-person household: other', 'other establishments', 'other household types: other, including all full-time students and all aged 66 years and over', 'other household types: with dependent children', 'ownership: lives rent free', 'ownership: owned: owns outright', 'ownership: owned: owns with a mortgage or loan', 'ownership: private rented: other private rented', 'ownership: private rented: private landlord or letting agency', 'ownership: shared ownership', 'ownership: social rented: other social rented', 'ownership: social rented: rents from council or local authority', 'part-time: 15 hours or less worked', 'part-time: 16 to 30 hours worked', 'passport: africa', 'passport: antarctica and oceania', 'passport: british overseas territories', 'passport: central and south america', 'passport: europe, eu', 'passport: europe, non-eu', 'passport: ireland', 'passport: middle east and asia', 'passport: no passport', 'passport: north america and the caribbean', 'passport: uk', 'position: full-time students', 'position: higher managerial, administrative and professional occupations', 'position: intermediate occupations', 'position: lower managerial, administrative and professional occupations', 'position: lower supervisory and technical occupations', 'position: never worked and long-term unemployed', 'position: routine occupations', 'position: semi-routine occupations', 'position: small employers and own account workers', 'religion: buddhist', 'religion: christian', 'religion: hindu', 'religion: jewish', 'religion: muslim', 'religion: no religion', 'religion: not answered', 'religion: other religion', 'religion: sikh', 'residency: average number of bedrooms per household', 'residency: lives in a communal establishment', 'sex: females', 'sex: males', 'single family household', 'single family household: all aged 66 years and over', 'single family household: cohabiting couple family: all children non-dependent', 'single family household: cohabiting couple family: no children', 'single family household: cohabiting couple family: with dependent children', 'single family household: lone parent family: all children non-dependent', 'single family household: lone parent family: with dependent children', 'single family household: married or civil partnership couple: all children non-dependent', 'single family household: married or civil partnership couple: dependent children', 'single family household: married or civil partnership couple: no children', 'total annual income (£)', 'transport to work: bicycle', 'transport to work: bus, minibus or coach', 'transport to work: driving a car or van', 'transport to work: motorcycle, scooter or moped', 'transport to work: on foot', 'transport to work: passenger in a car or van', 'transport to work: taxi', 'transport to work: train', 'transport to work: underground, metro, light rail, tram', 'transport to work: work mainly at or from home', 'uk identity: british only identity', 'uk identity: cornish and british only identity', 'uk identity: cornish only identity', 'uk identity: english and british only identity', 'uk identity: english only identity', 'uk identity: irish and at least one uk identity', 'uk identity: irish only identity', 'uk identity: non-uk identity only', 'uk identity: northern irish and british only identity', 'uk identity: northern irish only identity', 'uk identity: other identity and at least one uk identity', 'uk identity: scottish and british only identity', 'uk identity: scottish only identity', 'uk identity: welsh and british only identity', 'uk identity: welsh only identity', 'unpaid care: provides 1 to 19 hours unpaid care a week', 'unpaid care: provides 20 to 49 hours unpaid care a week', 'unpaid care: provides 50 or more hours unpaid care a week', 'unpaid care: provides no unpaid care', 'vehicles: 1 car or van in household', 'vehicles: 2 cars or vans in household', 'vehicles: 3 or more cars or vans in household', 'vehicles: no cars or vans in household', 'welsh: can speak welsh', 'welsh: can speak and read but cannot write welsh', 'welsh: can speak but cannot read or write welsh', 'welsh: no skills in welsh', 'welsh: other combination of skills in welsh', 'higher_occupation']\n"
     ]
    }
   ],
   "source": [
    "# dropping the separate higher occupation percent columns\n",
    "data.drop(co, axis=1, inplace=True)\n",
    "#print(data.columns.tolist())"
   ]
  },
  {
   "cell_type": "markdown",
   "id": "c038d213",
   "metadata": {},
   "source": [
    "# Experiment 1\n",
    "Scaling data using all years and all cities in one. Train on change between 2001 and 2011. Then test on 2021. Include the PCA variables in the training data.\n",
    "\n",
    "### Results\n",
    "- Valid Accuracy: 0.7254901960784313\n",
    "- Valid Balanced Accuracy: 0.5689948346113125\n",
    "\n",
    "A little worse on test. Predicting SD change instead gives balance accuracy = 0.5 on Training."
   ]
  },
  {
   "cell_type": "code",
   "execution_count": 25,
   "id": "36e64f3e",
   "metadata": {},
   "outputs": [],
   "source": [
    "# scaling - log transform on income and then scaling introduces 82 rows == 0\n",
    "\n",
    "# set pincode to index\n",
    "exp1_data = data.set_index('msoa code')\n",
    "#print(exp1_data.year)\n",
    "\n",
    "# turn the year column into a string\n",
    "exp1_data['year'] = exp1_data['year'].astype(str)\n",
    "\n",
    "# get log of income and house price\n",
    "exp1_data['median house price'] = np.log(exp1_data['median house price'])\n",
    "exp1_data['total annual income (£)'] = np.log(exp1_data['total annual income (£)'])\n",
    "\n",
    "# get the non-numeric cols\n",
    "exp1_nonnumeric = exp1_data.select_dtypes(include='object') # has 9779 rows\n",
    "\n",
    "# get numeric columns only NEED TO EXCLUDE YEAR\n",
    "exp1_numeric = exp1_data.select_dtypes(include='number')\n",
    "#print(len(exp1_numeric.columns))\n",
    "scaler = preprocessing.RobustScaler().fit(exp1_numeric)\n",
    "exp1_scaled = scaler.transform(exp1_numeric) # still maintains 9779 rows\n",
    "exp1_numeric = pd.DataFrame(exp1_scaled, index=exp1_numeric.index, columns=exp1_numeric.columns) # 9779 rows\n",
    "exp1_numeric['year'] = exp1_nonnumeric['year']\n",
    "#print(exp1_numeric['year'].head())\n",
    "\n",
    "# merge back into single df\n",
    "exp1_processed = exp1_nonnumeric.merge(exp1_numeric, how='inner', on=['msoa code', 'year'])\n",
    "\n",
    "#print(len(exp1_processed))"
   ]
  },
  {
   "cell_type": "code",
   "execution_count": 30,
   "id": "35d89a75",
   "metadata": {},
   "outputs": [
    {
     "name": "stdout",
     "output_type": "stream",
     "text": [
      "           year  \\\n",
      "msoa code         \n",
      "E02000001  2011   \n",
      "E02000002  2011   \n",
      "E02000003  2011   \n",
      "E02000004  2011   \n",
      "E02000005  2011   \n",
      "\n",
      "           highest level of qualification: level 4 qualifications or above  \\\n",
      "msoa code                                                                    \n",
      "E02000001                                           2.079763                 \n",
      "E02000002                                          -0.578862                 \n",
      "E02000003                                          -0.300022                 \n",
      "E02000004                                          -0.595959                 \n",
      "E02000005                                          -0.610861                 \n",
      "\n",
      "           median house price  total annual income (£)  higher_occupation  \n",
      "msoa code                                                                  \n",
      "E02000001            1.047336                 1.408548           1.843460  \n",
      "E02000002           -0.047193                -0.340952          -0.495484  \n",
      "E02000003            0.045389                 0.204377          -0.220897  \n",
      "E02000004            0.007686                 0.069959          -0.324322  \n",
      "E02000005           -0.183059                 0.000000          -0.634398  \n"
     ]
    },
    {
     "name": "stderr",
     "output_type": "stream",
     "text": [
      "/var/folders/47/vfwtfrrs15l9jrx68sw2gdww0000gn/T/ipykernel_68274/3307025896.py:11: SettingWithCopyWarning: \n",
      "A value is trying to be set on a copy of a slice from a DataFrame\n",
      "\n",
      "See the caveats in the documentation: https://pandas.pydata.org/pandas-docs/stable/user_guide/indexing.html#returning-a-view-versus-a-copy\n",
      "  ses_vars.sort_values(by=['year','msoa code'], ascending=True, inplace=True)\n"
     ]
    }
   ],
   "source": [
    "# creating the df of variables to create ses score\n",
    "\n",
    "pattern = '(year)|(.*level 4.*)|(.*price.*)|(.*income.*)|(higher_occupation)'\n",
    "    \n",
    "m = re.compile(pattern)\n",
    "cols = [c for c in data.columns.tolist() if m.match(c)]\n",
    "#print(cols)\n",
    "\n",
    "ses_vars = exp1_processed[cols]\n",
    "\n",
    "ses_vars.sort_values(by=['year','msoa code'], ascending=True, inplace=True)\n",
    "#print(ses_vars.head())\n",
    "\n",
    "\n",
    "print(ses_vars.head())"
   ]
  },
  {
   "cell_type": "markdown",
   "id": "6cfe0824",
   "metadata": {},
   "source": [
    "### Checking how many zeros there are in total annual income\n",
    "34.1% of the rows have total annual income of 0.0. 3259 rows in 2001 have 0 income."
   ]
  },
  {
   "cell_type": "code",
   "execution_count": 7,
   "id": "61d44816",
   "metadata": {},
   "outputs": [
    {
     "data": {
      "text/html": [
       "<div>\n",
       "<style scoped>\n",
       "    .dataframe tbody tr th:only-of-type {\n",
       "        vertical-align: middle;\n",
       "    }\n",
       "\n",
       "    .dataframe tbody tr th {\n",
       "        vertical-align: top;\n",
       "    }\n",
       "\n",
       "    .dataframe thead th {\n",
       "        text-align: right;\n",
       "    }\n",
       "</style>\n",
       "<table border=\"1\" class=\"dataframe\">\n",
       "  <thead>\n",
       "    <tr style=\"text-align: right;\">\n",
       "      <th></th>\n",
       "      <th>highest level of qualification: level 4 qualifications or above</th>\n",
       "      <th>median house price</th>\n",
       "      <th>total annual income (£)</th>\n",
       "      <th>occupation</th>\n",
       "    </tr>\n",
       "    <tr>\n",
       "      <th>year</th>\n",
       "      <th></th>\n",
       "      <th></th>\n",
       "      <th></th>\n",
       "      <th></th>\n",
       "    </tr>\n",
       "  </thead>\n",
       "  <tbody>\n",
       "    <tr>\n",
       "      <th>2011</th>\n",
       "      <td>82</td>\n",
       "      <td>82</td>\n",
       "      <td>82</td>\n",
       "      <td>82</td>\n",
       "    </tr>\n",
       "  </tbody>\n",
       "</table>\n",
       "</div>"
      ],
      "text/plain": [
       "      highest level of qualification: level 4 qualifications or above  \\\n",
       "year                                                                    \n",
       "2011                                                 82                 \n",
       "\n",
       "      median house price  total annual income (£)  occupation  \n",
       "year                                                           \n",
       "2011                  82                       82          82  "
      ]
     },
     "execution_count": 7,
     "metadata": {},
     "output_type": "execute_result"
    }
   ],
   "source": [
    "perc_0_income = len(ses_vars[ses_vars['total annual income (£)'] == 0.0]) / len(ses_vars)\n",
    "zero_income = ses_vars[ses_vars['total annual income (£)'] == 0.0]\n",
    "\n",
    "zero_income.groupby('year').count()"
   ]
  },
  {
   "cell_type": "markdown",
   "id": "7919df6f",
   "metadata": {},
   "source": [
    "### PCA and Results\n",
    "79% of the variance is explained by the 1st principal component. 2nd feature is most important, then 1st, 4th, and 3rd. Corresponding to House Price (2nd), Qualification (1st), Occupation (4th), and Income (3rd)"
   ]
  },
  {
   "cell_type": "code",
   "execution_count": 31,
   "id": "d812f2ac",
   "metadata": {},
   "outputs": [
    {
     "name": "stdout",
     "output_type": "stream",
     "text": [
      "           ses_score_11  ses_score_21\n",
      "msoa code                            \n",
      "E02000001      3.060824      3.849733\n",
      "E02000002     -0.892658     -0.029974\n",
      "E02000003     -0.298174      0.389150\n",
      "E02000004     -0.590434      0.403378\n",
      "E02000005     -0.878350      0.196340\n"
     ]
    }
   ],
   "source": [
    "# pca for ses score\n",
    "ses_np_scaled = ses_vars.drop('year', axis=1).to_numpy()\n",
    "\n",
    "pca = decomposition.PCA(n_components=1, random_state=16)\n",
    "pca.fit(ses_np_scaled)\n",
    "\n",
    "first_comp = pca.transform(ses_np_scaled)\n",
    "\n",
    "num_msoa_year = len(ses_vars) // 2\n",
    "#print(type(num_msoa_year))\n",
    "\n",
    "scores11 = first_comp[ :num_msoa_year]\n",
    "scores21 = first_comp[num_msoa_year: ]\n",
    "#scores21 = first_comp[2*num_msoa_year: ]\n",
    "\n",
    "assert len(scores11) + len(scores21) == len(ses_vars), 'scores and ses_vars differ in num rows'\n",
    "\n",
    "# change from np arrays to df and add the index\n",
    "#ses_vars01 = ses_vars[ses_vars['year'] == 2001]\n",
    "ses_vars11 = ses_vars[ses_vars['year'] == '2011']\n",
    "ses_vars21 = ses_vars[ses_vars['year'] == '2021']\n",
    "\n",
    "#scores01 = pd.DataFrame(scores01, index=ses_vars01.index)\n",
    "#scores01 = scores01.rename(columns={0: 'ses_score'})\n",
    "scores11 = pd.DataFrame(scores11, index=ses_vars11.index)\n",
    "scores11 = scores11.rename(columns={0: 'ses_score'})\n",
    "scores21 = pd.DataFrame(scores21, index=ses_vars21.index)\n",
    "scores21 = scores21.rename(columns={0: 'ses_score'})\n",
    "\n",
    "scores_combined = scores11.merge(scores21, how='inner',on='msoa code',suffixes=['_11', '_21'])\n",
    "#scores_combined = scores_combined.rename(columns={'ses_score':'ses_score_21'})\n",
    "print(scores_combined.head())"
   ]
  },
  {
   "cell_type": "code",
   "execution_count": 32,
   "id": "ec5988c0",
   "metadata": {},
   "outputs": [
    {
     "data": {
      "text/plain": [
       "array([[0.53179603, 0.48547477, 0.48680423, 0.4944986 ]])"
      ]
     },
     "execution_count": 32,
     "metadata": {},
     "output_type": "execute_result"
    }
   ],
   "source": [
    "pca.components_"
   ]
  },
  {
   "cell_type": "markdown",
   "id": "ddd82548",
   "metadata": {},
   "source": [
    "### Density of SES Scores by Year\n",
    "The distributions are right skewed"
   ]
  },
  {
   "cell_type": "code",
   "execution_count": 33,
   "id": "f5f0a590",
   "metadata": {},
   "outputs": [
    {
     "name": "stderr",
     "output_type": "stream",
     "text": [
      "/var/folders/47/vfwtfrrs15l9jrx68sw2gdww0000gn/T/ipykernel_68274/1643501140.py:6: FutureWarning: \n",
      "\n",
      "`shade` is now deprecated in favor of `fill`; setting `fill=True`.\n",
      "This will become an error in seaborn v0.14.0; please update your code.\n",
      "\n",
      "  sns.kdeplot(scores_combined['ses_score_11'], shade=True, ax=axes[0])\n",
      "/var/folders/47/vfwtfrrs15l9jrx68sw2gdww0000gn/T/ipykernel_68274/1643501140.py:9: FutureWarning: \n",
      "\n",
      "`shade` is now deprecated in favor of `fill`; setting `fill=True`.\n",
      "This will become an error in seaborn v0.14.0; please update your code.\n",
      "\n",
      "  sns.kdeplot(scores_combined['ses_score_21'], shade=True, ax=axes[1])\n"
     ]
    },
    {
     "data": {
      "image/png": "[encoded data removed]",
      "text/plain": [
       "<Figure size 1000x500 with 2 Axes>"
      ]
     },
     "metadata": {},
     "output_type": "display_data"
    }
   ],
   "source": [
    "# look at the density of scores each year\n",
    "fig, axes = plt.subplots(1, 2, figsize=(10, 5), sharex=True, sharey=True)\n",
    "#sns.kdeplot(scores_combined['ses_score_01'], shade=True, ax=axes[0])\n",
    "#axes[0].set_title(\"2001\")\n",
    "\n",
    "sns.kdeplot(scores_combined['ses_score_11'], shade=True, ax=axes[0])\n",
    "axes[0].set_title(\"2011\")\n",
    "\n",
    "sns.kdeplot(scores_combined['ses_score_21'], shade=True, ax=axes[1])\n",
    "axes[1].set_title(\"2021\")\n",
    "\n",
    "plt.tight_layout()\n",
    "plt.show()"
   ]
  },
  {
   "cell_type": "markdown",
   "id": "87e788ce",
   "metadata": {},
   "source": [
    "### Processing the data for modeling"
   ]
  },
  {
   "cell_type": "code",
   "execution_count": 34,
   "id": "b8d4d38f",
   "metadata": {},
   "outputs": [],
   "source": [
    "# takes into account negatives and gives correct change\n",
    "#scores_combined['ses_diff_01_11'] = scores_combined['ses_score_11'] - scores_combined['ses_score_01']\n",
    "scores_combined['ses_diff_11_21'] = scores_combined['ses_score_21'] - scores_combined['ses_score_11']"
   ]
  },
  {
   "cell_type": "code",
   "execution_count": 40,
   "id": "f315f404",
   "metadata": {},
   "outputs": [],
   "source": [
    "# combine processed data and score \n",
    "#dep_01_11 = pd.DataFrame(scores_combined['score_sd_01_11'])\n",
    "#y = pd.DataFrame(['2001']*len(dep_01_11), index=dep_01_11.index)\n",
    "#dep_01_11 = dep_01_11.merge(y, how='inner', on='msoa code')\n",
    "#dep_01_11.rename(columns={'score_sd_01_11': 'y_var', 0: 'year'}, inplace=True)\n",
    "\n",
    "dep_11_21 = pd.DataFrame(scores_combined['ses_diff_11_21'])\n",
    "y = pd.DataFrame(['2011']*len(dep_11_21), index=dep_11_21.index)\n",
    "dep_11_21 = dep_11_21.merge(y, how='inner', on='msoa code')\n",
    "dep_11_21.rename(columns={'ses_diff_11_21': 'y_var', 0: 'year'}, inplace=True)\n",
    "\n",
    "#dep_df = pd.concat((dep_01_11, dep_11_21))\n",
    "\n",
    "# drop 2021 rows in exp1\n",
    "data_processed = exp1_processed[exp1_processed['year'] != '2021']\n",
    "\n",
    "# combine dependent and ind vars\n",
    "data_processed = data_processed.merge(dep_11_21, how='inner', on=['msoa code', 'year'])\n"
   ]
  },
  {
   "cell_type": "code",
   "execution_count": 42,
   "id": "fdea5666",
   "metadata": {},
   "outputs": [],
   "source": [
    "# get 2011 data and do train test split\n",
    "#data_proc_2001 = data_processed[data_processed['year'] == '2001']\n",
    "\n",
    "# get the data ready for modeling\n",
    "\n",
    "# drop the year column\n",
    "data_processed = data_processed.drop(['year', 'msoa name', 'city code', 'city name'], axis=1)\n",
    "X = data_processed.loc[:, data_processed.columns != 'y_var'].to_numpy()\n",
    "y = data_processed['y_var'].to_numpy()\n",
    "\n",
    "# split data into training and testing \n",
    "X_t, X_test, y_t, y_test = train_test_split(X, y, test_size=0.2, random_state=386)\n",
    "\n",
    "X_train, X_valid, y_train, y_valid = train_test_split(X_t, y_t, test_size=0.2, random_state=440)"
   ]
  },
  {
   "cell_type": "code",
   "execution_count": 43,
   "id": "0d56909e",
   "metadata": {},
   "outputs": [],
   "source": [
    "# init the pytorch dataset class\n",
    "dataset_params = {'batch_size': 64,\n",
    "                 'shuffle': True}\n",
    "\n",
    "\n",
    "training_data_2011 = CensusData(X_train, y_train)\n",
    "training_loader_2011 = torch.utils.data.DataLoader(training_data_2011, **dataset_params)\n",
    "\n",
    "valid_data_2011 = CensusData(X_valid, y_valid)\n",
    "valid_loader_2011 = torch.utils.data.DataLoader(valid_data_2011, **dataset_params)\n"
   ]
  },
  {
   "cell_type": "markdown",
   "id": "a35d4ef6",
   "metadata": {},
   "source": [
    "### Setting up Optuna Trials and Getting Best Model"
   ]
  },
  {
   "cell_type": "code",
   "execution_count": 75,
   "id": "b88d5e03",
   "metadata": {},
   "outputs": [],
   "source": [
    "# set up hyperparameters in optuna trial\n",
    "def define_model(trial):\n",
    "    \n",
    "    n_layers = trial.suggest_int(\"n_layers\", 1, 4)\n",
    "    layers = []\n",
    "    \n",
    "    in_features = X_train.shape[1]\n",
    "\n",
    "    for l in range(n_layers):\n",
    "        out_features = trial.suggest_int(name=\"n_units_l{}\".format(l), low=10, high=160, step=5)\n",
    "        layers.append(nn.Linear(in_features, out_features))\n",
    "        layers.append(nn.Tanh())\n",
    "        p = trial.suggest_float(name=\"dropout_l{}\".format(l), low=0.2, high=0.5, step=0.1)\n",
    "        layers.append(nn.Dropout(p))\n",
    "        \n",
    "        in_features = out_features\n",
    "    \n",
    "    layers.append(nn.Linear(in_features, 1))\n",
    "    \n",
    "    return nn.Sequential(*layers)"
   ]
  },
  {
   "cell_type": "code",
   "execution_count": 45,
   "id": "94d5f52a",
   "metadata": {},
   "outputs": [],
   "source": [
    "# running optuna where objective is a class so I can get the best model\n",
    "mse_loss = nn.MSELoss()\n",
    "EPOCHS = 100\n",
    "\n",
    "class Objective:\n",
    "    \n",
    "    def __init__(self, train_data_loader, valid_data_loader, defined_model):\n",
    "        \n",
    "        self.best_booster = None\n",
    "        self._booster = None\n",
    "        self.train_loader = train_data_loader\n",
    "        self.valid_loader = valid_data_loader\n",
    "        self.define_model = defined_model\n",
    "        \n",
    "    def __call__(self, trial):\n",
    "        \n",
    "        model = self.define_model(trial).to(device)\n",
    "    \n",
    "        lr = trial.suggest_float(name=\"lr\", low=1e-5, high=1e-1, log=True)\n",
    "        optimizer = torch.optim.Adam(model.parameters(), lr=lr)\n",
    "        \n",
    "        for epoch in range(EPOCHS):\n",
    "        \n",
    "            model.train()\n",
    "            for batch_idx, (data, target) in enumerate(self.train_loader):\n",
    "                data, target = data.view(data.size(0), -1).to(device), target.to(device)\n",
    "        \n",
    "                optimizer.zero_grad() # reset gradients so they don't accumulate\n",
    "                output = model(data.float())\n",
    "                loss = mse_loss(output, target.float())\n",
    "                loss.backward()\n",
    "                optimizer.step()\n",
    "    \n",
    "            epoch_mse = 0.0\n",
    "            model.eval()\n",
    "            with torch.no_grad(): # don't store gradients\n",
    "                for b_idx, (d, t) in enumerate(self.valid_loader):\n",
    "                    d, t = d.view(d.size(0), -1).to(device), t.to(device)\n",
    "                    pred = model(d.float())\n",
    "        \n",
    "                    valid_loss = mse_loss(pred, target.float())\n",
    "                    epoch_mse += valid_loss\n",
    "    \n",
    "            trial.report(epoch_mse, epoch)\n",
    "        \n",
    "            if trial.should_prune():\n",
    "                raise optuna.exceptions.TrialPruned()\n",
    "                \n",
    "        self._booster = model\n",
    "        \n",
    "        return epoch_mse\n",
    "    \n",
    "    def callback(self, study, trial):\n",
    "        \n",
    "        if study.best_trial == trial:\n",
    "            self.best_booster = self._booster"
   ]
  },
  {
   "cell_type": "markdown",
   "id": "b1874923",
   "metadata": {},
   "source": [
    "### Running optuna trial to predict change in SES score"
   ]
  },
  {
   "cell_type": "code",
   "execution_count": 76,
   "id": "a2c1d929",
   "metadata": {
    "scrolled": true
   },
   "outputs": [
    {
     "name": "stderr",
     "output_type": "stream",
     "text": [
      "[I 2024-04-14 23:30:47,739] A new study created in memory with name: no-name-4b0d3b3f-31fb-495e-8412-a9558221d628\n",
      "/Users/edwardyao/anaconda3/lib/python3.10/site-packages/torch/nn/modules/loss.py:530: UserWarning: Using a target size (torch.Size([64])) that is different to the input size (torch.Size([64, 1])). This will likely lead to incorrect results due to broadcasting. Please ensure they have the same size.\n",
      "  return F.mse_loss(input, target, reduction=self.reduction)\n",
      "/Users/edwardyao/anaconda3/lib/python3.10/site-packages/torch/nn/modules/loss.py:530: UserWarning: Using a target size (torch.Size([55])) that is different to the input size (torch.Size([55, 1])). This will likely lead to incorrect results due to broadcasting. Please ensure they have the same size.\n",
      "  return F.mse_loss(input, target, reduction=self.reduction)\n",
      "/Users/edwardyao/anaconda3/lib/python3.10/site-packages/torch/nn/modules/loss.py:530: UserWarning: Using a target size (torch.Size([55])) that is different to the input size (torch.Size([64, 1])). This will likely lead to incorrect results due to broadcasting. Please ensure they have the same size.\n",
      "  return F.mse_loss(input, target, reduction=self.reduction)\n",
      "/Users/edwardyao/anaconda3/lib/python3.10/site-packages/torch/nn/modules/loss.py:530: UserWarning: Using a target size (torch.Size([55])) that is different to the input size (torch.Size([62, 1])). This will likely lead to incorrect results due to broadcasting. Please ensure they have the same size.\n",
      "  return F.mse_loss(input, target, reduction=self.reduction)\n",
      "[I 2024-04-14 23:31:05,609] Trial 0 finished with value: 0.5014339089393616 and parameters: {'n_layers': 1, 'n_units_l0': 155, 'dropout_l0': 0.5, 'lr': 0.0003908231839220962}. Best is trial 0 with value: 0.5014339089393616.\n",
      "[I 2024-04-14 23:31:39,170] Trial 1 finished with value: 0.5090029239654541 and parameters: {'n_layers': 3, 'n_units_l0': 105, 'dropout_l0': 0.2, 'n_units_l1': 35, 'dropout_l1': 0.30000000000000004, 'n_units_l2': 50, 'dropout_l2': 0.4, 'lr': 0.00013720455185713476}. Best is trial 0 with value: 0.5014339089393616.\n",
      "[I 2024-04-14 23:32:30,326] Trial 2 finished with value: 0.37573206424713135 and parameters: {'n_layers': 4, 'n_units_l0': 155, 'dropout_l0': 0.4, 'n_units_l1': 55, 'dropout_l1': 0.5, 'n_units_l2': 85, 'dropout_l2': 0.5, 'n_units_l3': 125, 'dropout_l3': 0.30000000000000004, 'lr': 6.063036981951539e-05}. Best is trial 2 with value: 0.37573206424713135.\n",
      "[I 2024-04-14 23:32:32,250] Trial 3 finished with value: 0.43485313653945923 and parameters: {'n_layers': 2, 'n_units_l0': 10, 'dropout_l0': 0.4, 'n_units_l1': 25, 'dropout_l1': 0.2, 'lr': 5.221036046331068e-05}. Best is trial 2 with value: 0.37573206424713135.\n",
      "[I 2024-04-14 23:32:51,815] Trial 4 finished with value: 0.4639376699924469 and parameters: {'n_layers': 2, 'n_units_l0': 25, 'dropout_l0': 0.2, 'n_units_l1': 35, 'dropout_l1': 0.4, 'lr': 0.0003731087213069266}. Best is trial 2 with value: 0.37573206424713135.\n",
      "[I 2024-04-14 23:32:52,463] Trial 5 pruned. \n",
      "[I 2024-04-14 23:32:52,877] Trial 6 pruned. \n",
      "[I 2024-04-14 23:32:53,785] Trial 7 pruned. \n",
      "[I 2024-04-14 23:33:30,338] Trial 8 finished with value: 0.47804149985313416 and parameters: {'n_layers': 4, 'n_units_l0': 60, 'dropout_l0': 0.4, 'n_units_l1': 135, 'dropout_l1': 0.30000000000000004, 'n_units_l2': 70, 'dropout_l2': 0.5, 'n_units_l3': 70, 'dropout_l3': 0.4, 'lr': 0.0015839608114366437}. Best is trial 2 with value: 0.37573206424713135.\n",
      "[I 2024-04-14 23:33:30,515] Trial 9 pruned. \n",
      "[I 2024-04-14 23:34:01,252] Trial 10 finished with value: 0.4981761574745178 and parameters: {'n_layers': 3, 'n_units_l0': 130, 'dropout_l0': 0.30000000000000004, 'n_units_l1': 80, 'dropout_l1': 0.5, 'n_units_l2': 140, 'dropout_l2': 0.5, 'lr': 0.005535384126797651}. Best is trial 2 with value: 0.37573206424713135.\n",
      "[I 2024-04-14 23:34:01,439] Trial 11 pruned. \n",
      "[I 2024-04-14 23:34:02,050] Trial 12 pruned. \n",
      "[I 2024-04-14 23:34:23,788] Trial 13 finished with value: 0.49618449807167053 and parameters: {'n_layers': 3, 'n_units_l0': 50, 'dropout_l0': 0.4, 'n_units_l1': 10, 'dropout_l1': 0.4, 'n_units_l2': 125, 'dropout_l2': 0.4, 'lr': 0.0034723629964350153}. Best is trial 2 with value: 0.37573206424713135.\n",
      "[I 2024-04-14 23:34:24,315] Trial 14 pruned. \n",
      "[I 2024-04-14 23:34:24,568] Trial 15 pruned. \n",
      "[I 2024-04-14 23:34:24,681] Trial 16 pruned. \n",
      "[I 2024-04-14 23:34:24,938] Trial 17 pruned. \n",
      "[I 2024-04-14 23:34:25,206] Trial 18 pruned. \n",
      "[I 2024-04-14 23:34:25,361] Trial 19 pruned. \n",
      "[I 2024-04-14 23:34:26,431] Trial 20 pruned. \n",
      "[I 2024-04-14 23:34:43,281] Trial 21 finished with value: 0.48691046237945557 and parameters: {'n_layers': 2, 'n_units_l0': 25, 'dropout_l0': 0.4, 'n_units_l1': 35, 'dropout_l1': 0.4, 'lr': 0.00034474843640346125}. Best is trial 2 with value: 0.37573206424713135.\n",
      "[I 2024-04-14 23:34:57,058] Trial 22 finished with value: 0.6155474185943604 and parameters: {'n_layers': 2, 'n_units_l0': 25, 'dropout_l0': 0.2, 'n_units_l1': 50, 'dropout_l1': 0.5, 'lr': 0.0002309988243865466}. Best is trial 2 with value: 0.37573206424713135.\n",
      "[I 2024-04-14 23:34:57,194] Trial 23 pruned. \n",
      "[I 2024-04-14 23:34:57,471] Trial 24 pruned. \n",
      "[I 2024-04-14 23:34:57,659] Trial 25 pruned. \n",
      "[I 2024-04-14 23:34:57,768] Trial 26 pruned. \n",
      "[I 2024-04-14 23:35:13,499] Trial 27 finished with value: 0.5143387317657471 and parameters: {'n_layers': 3, 'n_units_l0': 65, 'dropout_l0': 0.4, 'n_units_l1': 20, 'dropout_l1': 0.30000000000000004, 'n_units_l2': 100, 'dropout_l2': 0.30000000000000004, 'lr': 0.0033328667893872703}. Best is trial 2 with value: 0.37573206424713135.\n",
      "[I 2024-04-14 23:35:13,735] Trial 28 pruned. \n",
      "[I 2024-04-14 23:35:13,850] Trial 29 pruned. \n",
      "[I 2024-04-14 23:35:14,527] Trial 30 pruned. \n",
      "[I 2024-04-14 23:35:53,008] Trial 31 finished with value: 0.6052857637405396 and parameters: {'n_layers': 4, 'n_units_l0': 60, 'dropout_l0': 0.4, 'n_units_l1': 140, 'dropout_l1': 0.30000000000000004, 'n_units_l2': 70, 'dropout_l2': 0.5, 'n_units_l3': 55, 'dropout_l3': 0.30000000000000004, 'lr': 0.0020403621073712954}. Best is trial 2 with value: 0.37573206424713135.\n",
      "[I 2024-04-14 23:35:53,580] Trial 32 pruned. \n",
      "[I 2024-04-14 23:35:53,807] Trial 33 pruned. \n",
      "[I 2024-04-14 23:35:54,431] Trial 34 pruned. \n",
      "[I 2024-04-14 23:35:54,619] Trial 35 pruned. \n",
      "[I 2024-04-14 23:35:54,891] Trial 36 pruned. \n",
      "[I 2024-04-14 23:35:55,177] Trial 37 pruned. \n",
      "[I 2024-04-14 23:35:57,156] Trial 38 pruned. \n",
      "[I 2024-04-14 23:35:57,351] Trial 39 pruned. \n",
      "[I 2024-04-14 23:35:57,575] Trial 40 pruned. \n",
      "[I 2024-04-14 23:35:57,800] Trial 41 pruned. \n",
      "[I 2024-04-14 23:35:57,947] Trial 42 pruned. \n",
      "[I 2024-04-14 23:35:58,171] Trial 43 pruned. \n",
      "[I 2024-04-14 23:35:58,289] Trial 44 pruned. \n",
      "[I 2024-04-14 23:35:58,401] Trial 45 pruned. \n",
      "[I 2024-04-14 23:35:58,511] Trial 46 pruned. \n",
      "[I 2024-04-14 23:35:58,654] Trial 47 pruned. \n",
      "[I 2024-04-14 23:35:58,869] Trial 48 pruned. \n",
      "[I 2024-04-14 23:35:58,966] Trial 49 pruned. \n",
      "[I 2024-04-14 23:35:59,089] Trial 50 pruned. \n",
      "[I 2024-04-14 23:35:59,396] Trial 51 pruned. \n",
      "[I 2024-04-14 23:35:59,925] Trial 52 pruned. \n",
      "[I 2024-04-14 23:36:00,097] Trial 53 pruned. \n",
      "[I 2024-04-14 23:36:24,906] Trial 54 finished with value: 0.45448750257492065 and parameters: {'n_layers': 3, 'n_units_l0': 45, 'dropout_l0': 0.4, 'n_units_l1': 10, 'dropout_l1': 0.5, 'n_units_l2': 95, 'dropout_l2': 0.5, 'lr': 0.0012690090445416071}. Best is trial 2 with value: 0.37573206424713135.\n",
      "[I 2024-04-14 23:36:25,171] Trial 55 pruned. \n",
      "[I 2024-04-14 23:36:26,173] Trial 56 pruned. \n",
      "[I 2024-04-14 23:36:26,298] Trial 57 pruned. \n",
      "[I 2024-04-14 23:36:26,735] Trial 58 pruned. \n",
      "[I 2024-04-14 23:36:27,621] Trial 59 pruned. \n",
      "[I 2024-04-14 23:36:28,219] Trial 60 pruned. \n",
      "[I 2024-04-14 23:36:28,422] Trial 61 pruned. \n",
      "[I 2024-04-14 23:36:29,083] Trial 62 pruned. \n",
      "[I 2024-04-14 23:36:29,308] Trial 63 pruned. \n",
      "[I 2024-04-14 23:36:29,439] Trial 64 pruned. \n",
      "[I 2024-04-14 23:36:29,749] Trial 65 pruned. \n",
      "[I 2024-04-14 23:36:29,872] Trial 66 pruned. \n",
      "[I 2024-04-14 23:36:30,582] Trial 67 pruned. \n",
      "[I 2024-04-14 23:36:30,676] Trial 68 pruned. \n",
      "[I 2024-04-14 23:36:34,068] Trial 69 pruned. \n",
      "[I 2024-04-14 23:36:34,680] Trial 70 pruned. \n",
      "[I 2024-04-14 23:36:35,319] Trial 71 pruned. \n",
      "[I 2024-04-14 23:36:37,795] Trial 72 pruned. \n"
     ]
    },
    {
     "name": "stderr",
     "output_type": "stream",
     "text": [
      "[I 2024-04-14 23:37:12,804] Trial 73 finished with value: 0.45339760184288025 and parameters: {'n_layers': 3, 'n_units_l0': 125, 'dropout_l0': 0.2, 'n_units_l1': 75, 'dropout_l1': 0.5, 'n_units_l2': 105, 'dropout_l2': 0.5, 'lr': 0.002670873286049992}. Best is trial 2 with value: 0.37573206424713135.\n",
      "[I 2024-04-14 23:37:13,089] Trial 74 pruned. \n",
      "[I 2024-04-14 23:37:13,230] Trial 75 pruned. \n",
      "[I 2024-04-14 23:37:13,366] Trial 76 pruned. \n",
      "[I 2024-04-14 23:37:13,500] Trial 77 pruned. \n",
      "[I 2024-04-14 23:37:13,672] Trial 78 pruned. \n",
      "[I 2024-04-14 23:37:13,890] Trial 79 pruned. \n",
      "[I 2024-04-14 23:37:14,641] Trial 80 pruned. \n",
      "[I 2024-04-14 23:37:14,947] Trial 81 pruned. \n",
      "[I 2024-04-14 23:37:15,100] Trial 82 pruned. \n",
      "[I 2024-04-14 23:37:15,954] Trial 83 pruned. \n",
      "[I 2024-04-14 23:37:16,134] Trial 84 pruned. \n",
      "[I 2024-04-14 23:38:09,245] Trial 85 finished with value: 0.48564592003822327 and parameters: {'n_layers': 4, 'n_units_l0': 85, 'dropout_l0': 0.4, 'n_units_l1': 35, 'dropout_l1': 0.5, 'n_units_l2': 120, 'dropout_l2': 0.2, 'n_units_l3': 10, 'dropout_l3': 0.5, 'lr': 0.027420611416993885}. Best is trial 2 with value: 0.37573206424713135.\n",
      "[I 2024-04-14 23:38:09,542] Trial 86 pruned. \n",
      "[I 2024-04-14 23:38:10,327] Trial 87 pruned. \n",
      "[I 2024-04-14 23:38:10,528] Trial 88 pruned. \n",
      "[I 2024-04-14 23:38:11,044] Trial 89 pruned. \n",
      "[I 2024-04-14 23:38:11,957] Trial 90 pruned. \n",
      "[I 2024-04-14 23:38:12,096] Trial 91 pruned. \n",
      "[I 2024-04-14 23:38:12,406] Trial 92 pruned. \n",
      "[I 2024-04-14 23:38:43,672] Trial 93 finished with value: 1.0207204818725586 and parameters: {'n_layers': 3, 'n_units_l0': 120, 'dropout_l0': 0.30000000000000004, 'n_units_l1': 15, 'dropout_l1': 0.5, 'n_units_l2': 130, 'dropout_l2': 0.5, 'lr': 0.0013377654592859288}. Best is trial 2 with value: 0.37573206424713135.\n",
      "[I 2024-04-14 23:39:37,912] Trial 94 finished with value: 0.6228357553482056 and parameters: {'n_layers': 2, 'n_units_l0': 160, 'dropout_l0': 0.4, 'n_units_l1': 30, 'dropout_l1': 0.5, 'lr': 0.0050213662668842415}. Best is trial 2 with value: 0.37573206424713135.\n",
      "[I 2024-04-14 23:39:38,349] Trial 95 pruned. \n",
      "[I 2024-04-14 23:39:38,916] Trial 96 pruned. \n",
      "[I 2024-04-14 23:39:39,191] Trial 97 pruned. \n",
      "[I 2024-04-14 23:40:02,669] Trial 98 finished with value: 0.5273831486701965 and parameters: {'n_layers': 3, 'n_units_l0': 80, 'dropout_l0': 0.4, 'n_units_l1': 25, 'dropout_l1': 0.5, 'n_units_l2': 110, 'dropout_l2': 0.30000000000000004, 'lr': 0.01788692467612753}. Best is trial 2 with value: 0.37573206424713135.\n",
      "[I 2024-04-14 23:40:02,788] Trial 99 pruned. \n",
      "[I 2024-04-14 23:40:03,166] Trial 100 pruned. \n",
      "[I 2024-04-14 23:40:03,367] Trial 101 pruned. \n",
      "[I 2024-04-14 23:40:03,470] Trial 102 pruned. \n",
      "[I 2024-04-14 23:40:03,698] Trial 103 pruned. \n",
      "[I 2024-04-14 23:40:18,383] Trial 104 finished with value: 0.4548925459384918 and parameters: {'n_layers': 1, 'n_units_l0': 150, 'dropout_l0': 0.30000000000000004, 'lr': 0.0004104209398357849}. Best is trial 2 with value: 0.37573206424713135.\n",
      "[I 2024-04-14 23:40:18,713] Trial 105 pruned. \n",
      "[I 2024-04-14 23:40:34,560] Trial 106 finished with value: 0.4016161859035492 and parameters: {'n_layers': 1, 'n_units_l0': 140, 'dropout_l0': 0.30000000000000004, 'lr': 0.001426423547808713}. Best is trial 2 with value: 0.37573206424713135.\n",
      "[I 2024-04-14 23:40:34,750] Trial 107 pruned. \n",
      "[I 2024-04-14 23:40:35,020] Trial 108 pruned. \n",
      "[I 2024-04-14 23:40:35,204] Trial 109 pruned. \n",
      "[I 2024-04-14 23:40:35,377] Trial 110 pruned. \n",
      "[I 2024-04-14 23:40:35,640] Trial 111 pruned. \n",
      "[I 2024-04-14 23:41:17,762] Trial 112 finished with value: 0.4316180944442749 and parameters: {'n_layers': 4, 'n_units_l0': 135, 'dropout_l0': 0.30000000000000004, 'n_units_l1': 95, 'dropout_l1': 0.4, 'n_units_l2': 105, 'dropout_l2': 0.5, 'n_units_l3': 70, 'dropout_l3': 0.2, 'lr': 0.003967846621005656}. Best is trial 2 with value: 0.37573206424713135.\n"
     ]
    },
    {
     "name": "stdout",
     "output_type": "stream",
     "text": [
      "Best Trial:\n",
      "  Params: \n",
      "    n_layers: 4\n",
      "    n_units_l0: 155\n",
      "    dropout_l0: 0.4\n",
      "    n_units_l1: 55\n",
      "    dropout_l1: 0.5\n",
      "    n_units_l2: 85\n",
      "    dropout_l2: 0.5\n",
      "    n_units_l3: 125\n",
      "    dropout_l3: 0.30000000000000004\n",
      "    lr: 6.063036981951539e-05\n",
      "Best Model\n"
     ]
    },
    {
     "data": {
      "text/plain": [
       "Sequential(\n",
       "  (0): Linear(in_features=209, out_features=155, bias=True)\n",
       "  (1): Tanh()\n",
       "  (2): Dropout(p=0.4, inplace=False)\n",
       "  (3): Linear(in_features=155, out_features=55, bias=True)\n",
       "  (4): Tanh()\n",
       "  (5): Dropout(p=0.5, inplace=False)\n",
       "  (6): Linear(in_features=55, out_features=85, bias=True)\n",
       "  (7): Tanh()\n",
       "  (8): Dropout(p=0.5, inplace=False)\n",
       "  (9): Linear(in_features=85, out_features=125, bias=True)\n",
       "  (10): Tanh()\n",
       "  (11): Dropout(p=0.30000000000000004, inplace=False)\n",
       "  (12): Linear(in_features=125, out_features=1, bias=True)\n",
       ")"
      ]
     },
     "execution_count": 76,
     "metadata": {},
     "output_type": "execute_result"
    }
   ],
   "source": [
    "# running optuna trial using class objective\n",
    "\n",
    "obj = Objective(training_loader_2011, valid_loader_2011, define_model)\n",
    "cls_sampler = TPESampler(seed=440)\n",
    "cls_study = optuna.create_study(direction='minimize', sampler=cls_sampler)\n",
    "cls_study.optimize(obj, n_trials=150, timeout=600, callbacks=[obj.callback])\n",
    "\n",
    "print(\"Best Trial:\")\n",
    "cls_trial = cls_study.best_trial\n",
    "\n",
    "print(\"  Params: \")\n",
    "for key, value in cls_trial.params.items():\n",
    "    print(\"    {}: {}\".format(key, value))\n",
    "\n",
    "best_model = obj.best_booster\n",
    "print(\"Best Model\")\n",
    "best_model"
   ]
  },
  {
   "cell_type": "markdown",
   "id": "47063049",
   "metadata": {},
   "source": [
    "### Exp 1 Metric Results on Train, Valid, Test"
   ]
  },
  {
   "cell_type": "code",
   "execution_count": 50,
   "id": "f1e02b7f",
   "metadata": {},
   "outputs": [],
   "source": [
    "def change_metrics(y_true, y_pred, dataset='Valid'):\n",
    "    \n",
    "    # should only pass in numpy arrays\n",
    "    \n",
    "    # calculate how many sd away each is for true\n",
    "    true_mean, true_sd = np.mean(y_true), np.std(y_true)\n",
    "    true_sd_change = (y_true - true_mean) / true_sd\n",
    "    \n",
    "    # for pred calculate how much change\n",
    "    pred_mean, pred_sd = np.mean(y_pred), np.std(y_pred)\n",
    "    pred_sd_change = (y_pred - pred_mean) / pred_sd\n",
    "    \n",
    "    true_sd_change_cls = true_sd_change >= 1.0\n",
    "    true_sd_change_cls = true_sd_change_cls.astype(int)\n",
    "    \n",
    "    pred_sd_change_cls = pred_sd_change >= 1.0\n",
    "    pred_sd_change_cls = pred_sd_change_cls.astype(int)\n",
    "    \n",
    "    y_acc = accuracy_score(true_sd_change_cls, pred_sd_change_cls)\n",
    "    y_bacc = balanced_accuracy_score(true_sd_change_cls, pred_sd_change_cls)\n",
    "    y_f1 = f1_score(true_sd_change_cls, pred_sd_change_cls)\n",
    "\n",
    "    print(f'{dataset} Accuracy: {y_acc}')\n",
    "    print(f'{dataset} Balanced Accuracy: {y_bacc}')\n",
    "    print(f'{dataset} F1: {y_f1}')"
   ]
  },
  {
   "cell_type": "code",
   "execution_count": 73,
   "id": "c8522223",
   "metadata": {},
   "outputs": [
    {
     "name": "stdout",
     "output_type": "stream",
     "text": [
      "Valid Accuracy: 0.8568627450980392\n",
      "Valid Balanced Accuracy: 0.5036253970290995\n",
      "Valid F1: 0.02666666666666667\n"
     ]
    }
   ],
   "source": [
    "# get performance metrics on 2011 - 2021 validation set\n",
    "with torch.no_grad():\n",
    "    y_valid_pred = best_model(torch.from_numpy(X_valid).float())\n",
    "    #mse_loss_valid = mse_loss(y_valid_pred, y_valid)\n",
    "\n",
    "change_metrics(y_valid, y_valid_pred.numpy())"
   ]
  },
  {
   "cell_type": "code",
   "execution_count": 69,
   "id": "d6a1b903",
   "metadata": {},
   "outputs": [
    {
     "name": "stdout",
     "output_type": "stream",
     "text": [
      "Train Accuracy: 0.8410985777341834\n",
      "Train Balanced Accuracy: 0.5536473721038719\n",
      "Train F1: 0.21359223300970873\n"
     ]
    }
   ],
   "source": [
    "# train set performance\n",
    "with torch.no_grad():\n",
    "    y_train_pred = best_model(torch.from_numpy(X_train).float())\n",
    "    #mse_loss_valid = mse_loss(y_valid_pred, y_valid)\n",
    "\n",
    "change_metrics(y_train, y_train_pred.numpy(), dataset='Train')"
   ]
  },
  {
   "cell_type": "code",
   "execution_count": 74,
   "id": "d3f4eb18",
   "metadata": {},
   "outputs": [
    {
     "name": "stdout",
     "output_type": "stream",
     "text": [
      "Test Accuracy: 0.8605015673981191\n",
      "Test Balanced Accuracy: 0.4990909090909091\n",
      "Test F1: 0.0\n"
     ]
    }
   ],
   "source": [
    "with torch.no_grad():\n",
    "    y_test_pred = best_model(torch.from_numpy(X_test).float())\n",
    "\n",
    "change_metrics(y_test, y_test_pred.numpy(), dataset='Test')"
   ]
  },
  {
   "cell_type": "markdown",
   "id": "2331495e",
   "metadata": {},
   "source": [
    "## Experiment 1.1\n",
    "Predicting SD change instead of SES Score diff"
   ]
  },
  {
   "cell_type": "code",
   "execution_count": 63,
   "id": "8996e1d6",
   "metadata": {},
   "outputs": [],
   "source": [
    "def sd_metrics(y_true, y_pred, continuous=True, data='Valid'):\n",
    "    \n",
    "    if continuous:\n",
    "        y_true_class = y_true >= 1\n",
    "        y_true_class = y_true_class.astype(int)\n",
    "\n",
    "        y_pred_class = y_pred.numpy() >= 1\n",
    "        y_pred_class = y_pred_class.astype(int)\n",
    "\n",
    "        y_acc = accuracy_score(y_true_class, y_pred_class)\n",
    "        y_bacc = balanced_accuracy_score(y_true_class, y_pred_class)\n",
    "        y_f1 = f1_score(y_true_class, y_pred_class)\n",
    "\n",
    "        print(f'{data} Accuracy: {y_acc}')\n",
    "        print(f'{data} Balanced Accuracy: {y_bacc}')\n",
    "        print(f'{data} F1: {y_f1}')\n",
    "    \n",
    "    else:\n",
    "        y_acc = accuracy_score(y_true, y_pred)\n",
    "        y_bacc = balanced_accuracy_score(y_true, y_pred)\n",
    "        y_f1 = f1_score(y_true, y_pred)\n",
    "\n",
    "        print(f'{data} Accuracy: {y_acc}')\n",
    "        print(f'{data} Balanced Accuracy: {y_bacc}')\n",
    "        print(f'{data} F1: {y_f1}')"
   ]
  },
  {
   "cell_type": "code",
   "execution_count": 57,
   "id": "02df7474",
   "metadata": {
    "scrolled": true
   },
   "outputs": [
    {
     "name": "stdout",
     "output_type": "stream",
     "text": [
      "                          msoa name  city code city name  year  age: 0 to 4  \\\n",
      "msoa code                                                                     \n",
      "E02000001        City of London 001  J01000055    London  2011    -1.433765   \n",
      "E02000002  Barking and Dagenham 001  J01000055    London  2011     1.515756   \n",
      "E02000003  Barking and Dagenham 002  J01000055    London  2011     1.041116   \n",
      "E02000004  Barking and Dagenham 003  J01000055    London  2011    -0.119592   \n",
      "E02000005  Barking and Dagenham 004  J01000055    London  2011     1.529130   \n",
      "\n",
      "           age: 10 to 14  age: 15 to 19  age: 16 years and over  \\\n",
      "msoa code                                                         \n",
      "E02000001      -2.283827      -1.961457                0.166821   \n",
      "E02000002       0.365815       0.299784               -0.758232   \n",
      "E02000003       0.112180       0.140217                0.566879   \n",
      "E02000004       0.376175       1.230088               -0.721177   \n",
      "E02000005       0.880410       0.862159               -0.010881   \n",
      "\n",
      "           age: 20 to 24  age: 25 to 29  ...  \\\n",
      "msoa code                                ...   \n",
      "E02000001       0.512685       1.842841  ...   \n",
      "E02000002       0.046951       0.119831  ...   \n",
      "E02000003       0.294251       0.176150  ...   \n",
      "E02000004       0.500438      -0.117912  ...   \n",
      "E02000005       0.033318      -0.159790  ...   \n",
      "\n",
      "           vehicles: 2 cars or vans in household  \\\n",
      "msoa code                                          \n",
      "E02000001                              -1.118707   \n",
      "E02000002                              -0.300915   \n",
      "E02000003                              -0.133307   \n",
      "E02000004                               0.160295   \n",
      "E02000005                              -0.183162   \n",
      "\n",
      "           vehicles: 3 or more cars or vans in household  \\\n",
      "msoa code                                                  \n",
      "E02000001                                      -0.688537   \n",
      "E02000002                                      -0.410184   \n",
      "E02000003                                      -0.035377   \n",
      "E02000004                                       0.325969   \n",
      "E02000005                                      -0.224070   \n",
      "\n",
      "           vehicles: no cars or vans in household  welsh: can speak welsh  \\\n",
      "msoa code                                                                   \n",
      "E02000001                                1.834481                     0.0   \n",
      "E02000002                                0.376785                     0.0   \n",
      "E02000003                                0.083302                     0.0   \n",
      "E02000004                               -0.247138                     0.0   \n",
      "E02000005                                0.208708                     0.0   \n",
      "\n",
      "           welsh: can speak and read but cannot write welsh  \\\n",
      "msoa code                                                     \n",
      "E02000001                                               0.0   \n",
      "E02000002                                               0.0   \n",
      "E02000003                                               0.0   \n",
      "E02000004                                               0.0   \n",
      "E02000005                                               0.0   \n",
      "\n",
      "           welsh: can speak but cannot read or write welsh  \\\n",
      "msoa code                                                    \n",
      "E02000001                                              0.0   \n",
      "E02000002                                              0.0   \n",
      "E02000003                                              0.0   \n",
      "E02000004                                              0.0   \n",
      "E02000005                                              0.0   \n",
      "\n",
      "           welsh: no skills in welsh  \\\n",
      "msoa code                              \n",
      "E02000001                        0.0   \n",
      "E02000002                        0.0   \n",
      "E02000003                        0.0   \n",
      "E02000004                        0.0   \n",
      "E02000005                        0.0   \n",
      "\n",
      "           welsh: other combination of skills in welsh  higher_occupation  \\\n",
      "msoa code                                                                   \n",
      "E02000001                                          0.0           1.843460   \n",
      "E02000002                                          0.0          -0.495484   \n",
      "E02000003                                          0.0          -0.220897   \n",
      "E02000004                                          0.0          -0.324322   \n",
      "E02000005                                          0.0          -0.634398   \n",
      "\n",
      "              y_var  \n",
      "msoa code            \n",
      "E02000001  0.807824  \n",
      "E02000002  1.097504  \n",
      "E02000003  0.408939  \n",
      "E02000004  1.612397  \n",
      "E02000005  1.929971  \n",
      "\n",
      "[5 rows x 214 columns]\n"
     ]
    }
   ],
   "source": [
    "# create the sd y_var and process dataset for torch loaders\n",
    "depsd_11_21 = pd.DataFrame(scores_combined['ses_diff_11_21'])\n",
    "\n",
    "# adding year as a col\n",
    "y = pd.DataFrame(['2011']*len(depsd_11_21), index=depsd_11_21.index)\n",
    "depsd_11_21 = depsd_11_21.merge(y, how='inner', on='msoa code')\n",
    "\n",
    "# creating diff sd y_var col\n",
    "avg_diff = np.mean(depsd_11_21['ses_diff_11_21'].to_numpy())\n",
    "sd_diff = np.std(depsd_11_21['ses_diff_11_21'].to_numpy())\n",
    "depsd_11_21['y_var'] = (depsd_11_21['ses_diff_11_21'] - avg_diff) / sd_diff\n",
    "\n",
    "depsd_11_21.rename(columns={0: 'year'}, inplace=True)\n",
    "\n",
    "# dropping diff col\n",
    "depsd_11_21.drop('ses_diff_11_21', axis=1, inplace=True)\n",
    "\n",
    "# drop 2021 rows in exp1\n",
    "data_sd = exp1_processed[exp1_processed['year'] != '2021']\n",
    "\n",
    "# combine dependent and ind vars\n",
    "data_sd = data_sd.merge(depsd_11_21, how='inner', on=['msoa code', 'year'])\n",
    "\n",
    "#print(data_sd.head())"
   ]
  },
  {
   "cell_type": "code",
   "execution_count": 58,
   "id": "1390a380",
   "metadata": {},
   "outputs": [],
   "source": [
    "# train valid test split\n",
    "data_sd = data_sd.drop(['year', 'msoa name', 'city code', 'city name'], axis=1)\n",
    "X_sd = data_sd.loc[:, data_sd.columns != 'y_var'].to_numpy()\n",
    "y_sd = data_sd['y_var'].to_numpy()\n",
    "\n",
    "X_tt, X_test_sd, y_tt, y_test_sd = train_test_split(X_sd, y_sd, test_size=0.2, random_state=186)\n",
    "X_train_sd, X_valid_sd, y_train_sd, y_valid_sd = train_test_split(X_sd, y_sd, test_size=0.2, random_state=186)"
   ]
  },
  {
   "cell_type": "code",
   "execution_count": 59,
   "id": "ae93a566",
   "metadata": {},
   "outputs": [],
   "source": [
    "# init data and dataloader for new dataset\n",
    "\n",
    "train_data_2011_sd = CensusData(X_train_sd, y_train_sd)\n",
    "train_loader_2011_sd = torch.utils.data.DataLoader(train_data_2011_sd, **dataset_params)\n",
    "\n",
    "valid_data_2011_sd = CensusData(X_valid_sd, y_valid_sd)\n",
    "valid_loader_2011_sd = torch.utils.data.DataLoader(valid_data_2011_sd, **dataset_params)"
   ]
  },
  {
   "cell_type": "code",
   "execution_count": 60,
   "id": "7cf977ab",
   "metadata": {},
   "outputs": [
    {
     "name": "stderr",
     "output_type": "stream",
     "text": [
      "[I 2024-04-14 21:42:48,609] A new study created in memory with name: no-name-0c76a241-6cd3-47db-aecb-a0a1e4c3a3f2\n",
      "/Users/edwardyao/anaconda3/lib/python3.10/site-packages/torch/nn/modules/loss.py:530: UserWarning: Using a target size (torch.Size([64])) that is different to the input size (torch.Size([64, 1])). This will likely lead to incorrect results due to broadcasting. Please ensure they have the same size.\n",
      "  return F.mse_loss(input, target, reduction=self.reduction)\n",
      "/Users/edwardyao/anaconda3/lib/python3.10/site-packages/torch/nn/modules/loss.py:530: UserWarning: Using a target size (torch.Size([53])) that is different to the input size (torch.Size([53, 1])). This will likely lead to incorrect results due to broadcasting. Please ensure they have the same size.\n",
      "  return F.mse_loss(input, target, reduction=self.reduction)\n",
      "/Users/edwardyao/anaconda3/lib/python3.10/site-packages/torch/nn/modules/loss.py:530: UserWarning: Using a target size (torch.Size([53])) that is different to the input size (torch.Size([64, 1])). This will likely lead to incorrect results due to broadcasting. Please ensure they have the same size.\n",
      "  return F.mse_loss(input, target, reduction=self.reduction)\n",
      "/Users/edwardyao/anaconda3/lib/python3.10/site-packages/torch/nn/modules/loss.py:530: UserWarning: Using a target size (torch.Size([53])) that is different to the input size (torch.Size([62, 1])). This will likely lead to incorrect results due to broadcasting. Please ensure they have the same size.\n",
      "  return F.mse_loss(input, target, reduction=self.reduction)\n",
      "[I 2024-04-14 21:43:16,188] Trial 0 finished with value: 10.863204002380371 and parameters: {'n_layers': 1, 'n_units_l0': 155, 'dropout_l0': 0.4, 'lr': 0.008465176554290162}. Best is trial 0 with value: 10.863204002380371.\n",
      "[I 2024-04-14 21:43:38,993] Trial 1 finished with value: 10.071398735046387 and parameters: {'n_layers': 1, 'n_units_l0': 55, 'dropout_l0': 0.30000000000000004, 'lr': 0.001776963828185495}. Best is trial 1 with value: 10.071398735046387.\n",
      "[I 2024-04-14 21:44:23,480] Trial 2 finished with value: 9.160839080810547 and parameters: {'n_layers': 4, 'n_units_l0': 155, 'dropout_l0': 0.2, 'n_units_l1': 75, 'dropout_l1': 0.2, 'n_units_l2': 85, 'dropout_l2': 0.4, 'n_units_l3': 45, 'dropout_l3': 0.5, 'lr': 0.0004270417081831423}. Best is trial 2 with value: 9.160839080810547.\n",
      "[I 2024-04-14 21:44:39,165] Trial 3 finished with value: 9.505379676818848 and parameters: {'n_layers': 3, 'n_units_l0': 45, 'dropout_l0': 0.5, 'n_units_l1': 15, 'dropout_l1': 0.4, 'n_units_l2': 30, 'dropout_l2': 0.4, 'lr': 0.010468693387656682}. Best is trial 2 with value: 9.160839080810547.\n",
      "[I 2024-04-14 21:45:08,981] Trial 4 finished with value: 9.169984817504883 and parameters: {'n_layers': 3, 'n_units_l0': 140, 'dropout_l0': 0.30000000000000004, 'n_units_l1': 40, 'dropout_l1': 0.30000000000000004, 'n_units_l2': 125, 'dropout_l2': 0.30000000000000004, 'lr': 0.0018359925567576747}. Best is trial 2 with value: 9.160839080810547.\n",
      "[I 2024-04-14 21:45:09,231] Trial 5 pruned. \n",
      "[I 2024-04-14 21:45:09,798] Trial 6 pruned. \n",
      "[I 2024-04-14 21:45:26,677] Trial 7 finished with value: 7.697544574737549 and parameters: {'n_layers': 2, 'n_units_l0': 70, 'dropout_l0': 0.2, 'n_units_l1': 115, 'dropout_l1': 0.4, 'lr': 0.0068709277857007985}. Best is trial 7 with value: 7.697544574737549.\n",
      "[I 2024-04-14 21:46:01,229] Trial 8 finished with value: 5.781948089599609 and parameters: {'n_layers': 3, 'n_units_l0': 95, 'dropout_l0': 0.30000000000000004, 'n_units_l1': 40, 'dropout_l1': 0.5, 'n_units_l2': 75, 'dropout_l2': 0.5, 'lr': 2.2161089993641e-05}. Best is trial 8 with value: 5.781948089599609.\n",
      "[I 2024-04-14 21:46:02,036] Trial 9 pruned. \n",
      "[I 2024-04-14 21:46:04,459] Trial 10 finished with value: 8.571937561035156 and parameters: {'n_layers': 2, 'n_units_l0': 15, 'dropout_l0': 0.30000000000000004, 'n_units_l1': 45, 'dropout_l1': 0.5, 'lr': 1.4701403432971128e-05}. Best is trial 8 with value: 5.781948089599609.\n",
      "[I 2024-04-14 21:46:05,001] Trial 11 pruned. \n",
      "[I 2024-04-14 21:46:05,462] Trial 12 pruned. \n",
      "[I 2024-04-14 21:46:06,063] Trial 13 pruned. \n",
      "[I 2024-04-14 21:46:17,701] Trial 14 finished with value: 7.092341899871826 and parameters: {'n_layers': 1, 'n_units_l0': 115, 'dropout_l0': 0.30000000000000004, 'lr': 0.07582340683780119}. Best is trial 8 with value: 5.781948089599609.\n",
      "[I 2024-04-14 21:46:18,247] Trial 15 pruned. \n",
      "[I 2024-04-14 21:46:20,565] Trial 16 pruned. \n",
      "[I 2024-04-14 21:46:21,096] Trial 17 pruned. \n",
      "[I 2024-04-14 21:46:21,773] Trial 18 pruned. \n",
      "[I 2024-04-14 21:46:23,050] Trial 19 pruned. \n",
      "[I 2024-04-14 21:46:23,544] Trial 20 pruned. \n",
      "[I 2024-04-14 21:46:23,989] Trial 21 pruned. \n",
      "[I 2024-04-14 21:46:24,402] Trial 22 pruned. \n",
      "[I 2024-04-14 21:46:24,594] Trial 23 pruned. \n",
      "[I 2024-04-14 21:46:41,692] Trial 24 finished with value: 11.633634567260742 and parameters: {'n_layers': 1, 'n_units_l0': 105, 'dropout_l0': 0.30000000000000004, 'lr': 0.004512612318045245}. Best is trial 8 with value: 5.781948089599609.\n",
      "[I 2024-04-14 21:46:42,081] Trial 25 pruned. \n",
      "[I 2024-04-14 21:47:07,378] Trial 26 finished with value: 7.333031177520752 and parameters: {'n_layers': 3, 'n_units_l0': 75, 'dropout_l0': 0.30000000000000004, 'n_units_l1': 80, 'dropout_l1': 0.30000000000000004, 'n_units_l2': 55, 'dropout_l2': 0.5, 'lr': 0.016391499919664935}. Best is trial 8 with value: 5.781948089599609.\n",
      "[I 2024-04-14 21:47:08,118] Trial 27 pruned. \n",
      "[I 2024-04-14 21:47:08,316] Trial 28 pruned. \n",
      "[I 2024-04-14 21:47:08,806] Trial 29 pruned. \n",
      "[I 2024-04-14 21:47:42,630] Trial 30 finished with value: 11.806986808776855 and parameters: {'n_layers': 3, 'n_units_l0': 115, 'dropout_l0': 0.4, 'n_units_l1': 60, 'dropout_l1': 0.2, 'n_units_l2': 105, 'dropout_l2': 0.5, 'lr': 0.00017151078269056052}. Best is trial 8 with value: 5.781948089599609.\n",
      "[I 2024-04-14 21:47:42,769] Trial 31 pruned. \n",
      "[I 2024-04-14 21:47:42,921] Trial 32 pruned. \n",
      "[I 2024-04-14 21:47:43,172] Trial 33 pruned. \n",
      "[I 2024-04-14 21:47:43,692] Trial 34 pruned. \n",
      "[I 2024-04-14 21:47:44,263] Trial 35 pruned. \n",
      "[I 2024-04-14 21:47:45,006] Trial 36 pruned. \n",
      "[I 2024-04-14 21:47:46,277] Trial 37 pruned. \n",
      "[I 2024-04-14 21:47:46,428] Trial 38 pruned. \n",
      "[I 2024-04-14 21:47:47,080] Trial 39 pruned. \n",
      "[I 2024-04-14 21:47:47,184] Trial 40 pruned. \n",
      "[I 2024-04-14 21:47:49,593] Trial 41 finished with value: 13.435273170471191 and parameters: {'n_layers': 2, 'n_units_l0': 15, 'dropout_l0': 0.30000000000000004, 'n_units_l1': 40, 'dropout_l1': 0.5, 'lr': 1.142320258037577e-05}. Best is trial 8 with value: 5.781948089599609.\n",
      "[I 2024-04-14 21:47:49,637] Trial 42 pruned. \n",
      "[I 2024-04-14 21:47:49,788] Trial 43 pruned. \n",
      "[I 2024-04-14 21:47:50,456] Trial 44 pruned. \n",
      "[I 2024-04-14 21:47:51,317] Trial 45 pruned. \n",
      "[I 2024-04-14 21:47:51,506] Trial 46 pruned. \n",
      "[I 2024-04-14 21:47:52,119] Trial 47 pruned. \n",
      "[I 2024-04-14 21:47:53,036] Trial 48 pruned. \n",
      "[I 2024-04-14 21:47:53,455] Trial 49 pruned. \n",
      "[I 2024-04-14 21:47:53,699] Trial 50 pruned. \n",
      "[I 2024-04-14 21:49:03,051] Trial 51 finished with value: 11.829256057739258 and parameters: {'n_layers': 4, 'n_units_l0': 160, 'dropout_l0': 0.2, 'n_units_l1': 75, 'dropout_l1': 0.2, 'n_units_l2': 95, 'dropout_l2': 0.4, 'n_units_l3': 60, 'dropout_l3': 0.5, 'lr': 0.00011283930325237413}. Best is trial 8 with value: 5.781948089599609.\n",
      "[I 2024-04-14 21:49:04,129] Trial 52 pruned. \n",
      "[I 2024-04-14 21:49:05,073] Trial 53 pruned. \n",
      "[I 2024-04-14 21:49:05,313] Trial 54 pruned. \n",
      "[I 2024-04-14 21:49:05,829] Trial 55 pruned. \n",
      "[I 2024-04-14 21:49:06,364] Trial 56 pruned. \n",
      "[I 2024-04-14 21:49:06,484] Trial 57 pruned. \n",
      "[I 2024-04-14 21:49:06,643] Trial 58 pruned. \n",
      "[I 2024-04-14 21:49:07,517] Trial 59 pruned. \n",
      "[I 2024-04-14 21:49:07,839] Trial 60 pruned. \n",
      "[I 2024-04-14 21:49:08,224] Trial 61 pruned. \n",
      "[I 2024-04-14 21:49:08,612] Trial 62 pruned. \n",
      "[I 2024-04-14 21:49:08,839] Trial 63 pruned. \n",
      "[I 2024-04-14 21:49:08,947] Trial 64 pruned. \n",
      "[I 2024-04-14 21:49:09,293] Trial 65 pruned. \n",
      "[I 2024-04-14 21:49:09,897] Trial 66 pruned. \n",
      "[I 2024-04-14 21:49:10,378] Trial 67 pruned. \n",
      "[I 2024-04-14 21:49:10,986] Trial 68 pruned. \n",
      "[I 2024-04-14 21:49:11,186] Trial 69 pruned. \n",
      "[I 2024-04-14 21:49:11,869] Trial 70 pruned. \n",
      "[I 2024-04-14 21:49:12,392] Trial 71 pruned. \n"
     ]
    },
    {
     "name": "stderr",
     "output_type": "stream",
     "text": [
      "[I 2024-04-14 21:49:12,547] Trial 72 pruned. \n",
      "[I 2024-04-14 21:49:13,179] Trial 73 pruned. \n",
      "[I 2024-04-14 21:49:13,318] Trial 74 pruned. \n",
      "[I 2024-04-14 21:49:13,469] Trial 75 pruned. \n",
      "[I 2024-04-14 21:49:13,999] Trial 76 pruned. \n",
      "[I 2024-04-14 21:49:14,727] Trial 77 pruned. \n",
      "[I 2024-04-14 21:49:15,191] Trial 78 pruned. \n",
      "[I 2024-04-14 21:49:16,168] Trial 79 pruned. \n",
      "[I 2024-04-14 21:49:16,407] Trial 80 pruned. \n",
      "[I 2024-04-14 21:49:16,487] Trial 81 pruned. \n",
      "[I 2024-04-14 21:49:30,704] Trial 82 finished with value: 9.251827239990234 and parameters: {'n_layers': 1, 'n_units_l0': 70, 'dropout_l0': 0.30000000000000004, 'lr': 0.001045691009213554}. Best is trial 8 with value: 5.781948089599609.\n",
      "[I 2024-04-14 21:49:43,604] Trial 83 finished with value: 10.0560302734375 and parameters: {'n_layers': 1, 'n_units_l0': 85, 'dropout_l0': 0.30000000000000004, 'lr': 0.0008516312714679563}. Best is trial 8 with value: 5.781948089599609.\n",
      "[I 2024-04-14 21:49:43,728] Trial 84 pruned. \n",
      "[I 2024-04-14 21:49:43,843] Trial 85 pruned. \n",
      "[I 2024-04-14 21:49:43,942] Trial 86 pruned. \n",
      "[I 2024-04-14 21:49:44,091] Trial 87 pruned. \n",
      "[I 2024-04-14 21:49:45,030] Trial 88 pruned. \n",
      "[I 2024-04-14 21:49:45,293] Trial 89 pruned. \n",
      "[I 2024-04-14 21:50:04,189] Trial 90 finished with value: 9.227472305297852 and parameters: {'n_layers': 2, 'n_units_l0': 145, 'dropout_l0': 0.30000000000000004, 'n_units_l1': 55, 'dropout_l1': 0.30000000000000004, 'lr': 0.0004692440548615175}. Best is trial 8 with value: 5.781948089599609.\n",
      "[I 2024-04-14 21:50:04,377] Trial 91 pruned. \n",
      "[I 2024-04-14 21:50:04,704] Trial 92 pruned. \n",
      "[I 2024-04-14 21:50:05,425] Trial 93 pruned. \n",
      "[I 2024-04-14 21:50:34,039] Trial 94 finished with value: 15.387812614440918 and parameters: {'n_layers': 2, 'n_units_l0': 130, 'dropout_l0': 0.30000000000000004, 'n_units_l1': 50, 'dropout_l1': 0.30000000000000004, 'lr': 0.0004349967030549196}. Best is trial 8 with value: 5.781948089599609.\n",
      "[I 2024-04-14 21:50:34,288] Trial 95 pruned. \n",
      "[I 2024-04-14 21:50:35,015] Trial 96 pruned. \n",
      "[I 2024-04-14 21:50:35,161] Trial 97 pruned. \n",
      "[I 2024-04-14 21:50:35,334] Trial 98 pruned. \n",
      "[I 2024-04-14 21:50:36,212] Trial 99 pruned. \n",
      "[I 2024-04-14 21:50:37,485] Trial 100 pruned. \n",
      "[I 2024-04-14 21:50:37,606] Trial 101 pruned. \n",
      "[I 2024-04-14 21:50:37,994] Trial 102 pruned. \n",
      "[I 2024-04-14 21:50:38,429] Trial 103 pruned. \n",
      "[I 2024-04-14 21:50:38,637] Trial 104 pruned. \n",
      "[I 2024-04-14 21:50:38,762] Trial 105 pruned. \n",
      "[I 2024-04-14 21:50:38,880] Trial 106 pruned. \n",
      "[I 2024-04-14 21:50:39,107] Trial 107 pruned. \n",
      "[I 2024-04-14 21:50:39,660] Trial 108 pruned. \n",
      "[I 2024-04-14 21:50:39,827] Trial 109 pruned. \n",
      "[I 2024-04-14 21:51:22,253] Trial 110 finished with value: 9.492820739746094 and parameters: {'n_layers': 3, 'n_units_l0': 145, 'dropout_l0': 0.2, 'n_units_l1': 80, 'dropout_l1': 0.2, 'n_units_l2': 40, 'dropout_l2': 0.4, 'lr': 0.0018441975896805042}. Best is trial 8 with value: 5.781948089599609.\n",
      "[I 2024-04-14 21:51:22,715] Trial 111 pruned. \n",
      "[I 2024-04-14 21:51:23,128] Trial 112 pruned. \n",
      "[I 2024-04-14 21:51:24,880] Trial 113 pruned. \n",
      "[I 2024-04-14 21:51:25,600] Trial 114 pruned. \n",
      "[I 2024-04-14 21:51:26,095] Trial 115 pruned. \n",
      "[I 2024-04-14 21:51:27,309] Trial 116 pruned. \n",
      "[I 2024-04-14 21:51:28,604] Trial 117 pruned. \n",
      "[I 2024-04-14 21:51:29,040] Trial 118 pruned. \n",
      "[I 2024-04-14 21:51:29,453] Trial 119 pruned. \n",
      "[I 2024-04-14 21:51:29,784] Trial 120 pruned. \n",
      "[I 2024-04-14 21:51:29,896] Trial 121 pruned. \n",
      "[I 2024-04-14 21:51:30,427] Trial 122 pruned. \n",
      "[I 2024-04-14 21:51:30,888] Trial 123 pruned. \n",
      "[I 2024-04-14 21:51:31,196] Trial 124 pruned. \n",
      "[I 2024-04-14 21:51:31,628] Trial 125 pruned. \n",
      "[I 2024-04-14 21:51:31,795] Trial 126 pruned. \n",
      "[I 2024-04-14 21:51:57,703] Trial 127 finished with value: 14.007903099060059 and parameters: {'n_layers': 2, 'n_units_l0': 50, 'dropout_l0': 0.2, 'n_units_l1': 80, 'dropout_l1': 0.30000000000000004, 'lr': 2.0672651781752073e-05}. Best is trial 8 with value: 5.781948089599609.\n",
      "[I 2024-04-14 21:51:57,797] Trial 128 pruned. \n",
      "[I 2024-04-14 21:51:58,456] Trial 129 pruned. \n",
      "[I 2024-04-14 21:51:58,696] Trial 130 pruned. \n",
      "[I 2024-04-14 21:51:59,268] Trial 131 pruned. \n",
      "[I 2024-04-14 21:51:59,467] Trial 132 pruned. \n",
      "[I 2024-04-14 21:51:59,567] Trial 133 pruned. \n",
      "[I 2024-04-14 21:52:00,055] Trial 134 pruned. \n",
      "[I 2024-04-14 21:52:00,237] Trial 135 pruned. \n",
      "[I 2024-04-14 21:52:00,338] Trial 136 pruned. \n",
      "[I 2024-04-14 21:52:00,478] Trial 137 pruned. \n",
      "[I 2024-04-14 21:52:00,930] Trial 138 pruned. \n",
      "[I 2024-04-14 21:52:01,078] Trial 139 pruned. \n",
      "[I 2024-04-14 21:52:01,831] Trial 140 pruned. \n",
      "[I 2024-04-14 21:52:01,962] Trial 141 pruned. \n",
      "[I 2024-04-14 21:52:02,279] Trial 142 pruned. \n",
      "[I 2024-04-14 21:52:02,409] Trial 143 pruned. \n",
      "[I 2024-04-14 21:52:02,543] Trial 144 pruned. \n",
      "[I 2024-04-14 21:52:23,723] Trial 145 finished with value: 10.025156021118164 and parameters: {'n_layers': 1, 'n_units_l0': 145, 'dropout_l0': 0.30000000000000004, 'lr': 0.008479917248384674}. Best is trial 8 with value: 5.781948089599609.\n",
      "[I 2024-04-14 21:52:23,891] Trial 146 pruned. \n",
      "[I 2024-04-14 21:52:24,148] Trial 147 pruned. \n",
      "[I 2024-04-14 21:52:25,179] Trial 148 pruned. \n",
      "[I 2024-04-14 21:52:25,950] Trial 149 pruned. \n",
      "[I 2024-04-14 21:52:26,336] Trial 150 pruned. \n",
      "[I 2024-04-14 21:52:27,396] Trial 151 pruned. \n",
      "[I 2024-04-14 21:52:27,756] Trial 152 pruned. \n",
      "[I 2024-04-14 21:52:28,154] Trial 153 pruned. \n",
      "[I 2024-04-14 21:52:46,817] Trial 154 finished with value: 10.975088119506836 and parameters: {'n_layers': 1, 'n_units_l0': 100, 'dropout_l0': 0.30000000000000004, 'lr': 0.011406384123237058}. Best is trial 8 with value: 5.781948089599609.\n",
      "[I 2024-04-14 21:52:47,370] Trial 155 pruned. \n",
      "[I 2024-04-14 21:52:47,626] Trial 156 pruned. \n",
      "[I 2024-04-14 21:52:47,863] Trial 157 pruned. \n",
      "[I 2024-04-14 21:53:42,264] Trial 158 finished with value: 11.630838394165039 and parameters: {'n_layers': 4, 'n_units_l0': 95, 'dropout_l0': 0.2, 'n_units_l1': 110, 'dropout_l1': 0.30000000000000004, 'n_units_l2': 60, 'dropout_l2': 0.2, 'n_units_l3': 55, 'dropout_l3': 0.30000000000000004, 'lr': 0.008344627561212303}. Best is trial 8 with value: 5.781948089599609.\n"
     ]
    },
    {
     "name": "stdout",
     "output_type": "stream",
     "text": [
      "Best Trial:\n",
      "  Params: \n",
      "    n_layers: 3\n",
      "    n_units_l0: 95\n",
      "    dropout_l0: 0.30000000000000004\n",
      "    n_units_l1: 40\n",
      "    dropout_l1: 0.5\n",
      "    n_units_l2: 75\n",
      "    dropout_l2: 0.5\n",
      "    lr: 2.2161089993641e-05\n",
      "Best Model\n"
     ]
    },
    {
     "data": {
      "text/plain": [
       "Sequential(\n",
       "  (0): Linear(in_features=209, out_features=95, bias=True)\n",
       "  (1): Tanh()\n",
       "  (2): Dropout(p=0.30000000000000004, inplace=False)\n",
       "  (3): Linear(in_features=95, out_features=40, bias=True)\n",
       "  (4): Tanh()\n",
       "  (5): Dropout(p=0.5, inplace=False)\n",
       "  (6): Linear(in_features=40, out_features=75, bias=True)\n",
       "  (7): Tanh()\n",
       "  (8): Dropout(p=0.5, inplace=False)\n",
       "  (9): Linear(in_features=75, out_features=1, bias=True)\n",
       ")"
      ]
     },
     "execution_count": 60,
     "metadata": {},
     "output_type": "execute_result"
    }
   ],
   "source": [
    "obj1_1 = Objective(train_loader_2011_sd, valid_loader_2011_sd, define_model)\n",
    "cls1_1_study = optuna.create_study(direction='minimize', sampler=cls_sampler)\n",
    "cls1_1_study.optimize(obj1_1, n_trials=200, timeout=600, callbacks=[obj1_1.callback])\n",
    "\n",
    "print(\"Best Trial:\")\n",
    "cls1_1_trial = cls1_1_study.best_trial\n",
    "\n",
    "print(\"  Params: \")\n",
    "for key, value in cls1_1_trial.params.items():\n",
    "    print(\"    {}: {}\".format(key, value))\n",
    "\n",
    "best_model1_1 = obj1_1.best_booster\n",
    "print(\"Best Model\")\n",
    "best_model1_1"
   ]
  },
  {
   "cell_type": "code",
   "execution_count": 65,
   "id": "7b1a85d3",
   "metadata": {},
   "outputs": [
    {
     "name": "stdout",
     "output_type": "stream",
     "text": [
      "Train Accuracy: 0.8579835229501765\n",
      "Train Balanced Accuracy: 0.5\n",
      "Train F1: 0.0\n"
     ]
    }
   ],
   "source": [
    "# sd train metrics\n",
    "with torch.no_grad():\n",
    "    y_sd_train_pred = best_model1_1(torch.from_numpy(X_train_sd).float())\n",
    "\n",
    "sd_metrics(y_train_sd, y_sd_train_pred, data='Train')"
   ]
  },
  {
   "cell_type": "markdown",
   "id": "456ae148",
   "metadata": {},
   "source": [
    "# Experiment 2\n",
    "Subsetting data to the 3 largets cities in England: London, Manchester, Birmingham\n",
    "\n",
    "Need to redo scaling and creation of SES score"
   ]
  },
  {
   "cell_type": "code",
   "execution_count": 80,
   "id": "7cc12f1b",
   "metadata": {},
   "outputs": [],
   "source": [
    "# scaling - log transform on income and then scaling introduces 82 rows == 0\n",
    "\n",
    "# set pincode to index\n",
    "exp2_data = data.set_index('msoa code')\n",
    "#print(exp1_data.year)\n",
    "\n",
    "# drop all cities except london, manchester, and birmingham\n",
    "cities = ['Birmingham', 'Manchester', 'London']\n",
    "mask = exp2_data['city name'].isin(cities)\n",
    "exp2_data = exp2_data[mask]\n",
    "\n",
    "# turn the year column into a string\n",
    "exp2_data['year'] = exp2_data['year'].astype(str)\n",
    "\n",
    "# get log of income and house price\n",
    "exp2_data['median house price'] = np.log(exp2_data['median house price'])\n",
    "exp2_data['total annual income (£)'] = np.log(exp2_data['total annual income (£)'])\n",
    "\n",
    "# get the non-numeric cols\n",
    "exp2_nonnumeric = exp2_data.select_dtypes(include='object') # has 9779 rows\n",
    "\n",
    "# get numeric columns only NEED TO EXCLUDE YEAR\n",
    "exp2_numeric = exp2_data.select_dtypes(include='number')\n",
    "#print(len(exp1_numeric.columns))\n",
    "scaler = preprocessing.RobustScaler().fit(exp2_numeric)\n",
    "exp2_scaled = scaler.transform(exp2_numeric) # still maintains 9779 rows\n",
    "exp2_numeric = pd.DataFrame(exp2_scaled, index=exp2_numeric.index, columns=exp2_numeric.columns) # 9779 rows\n",
    "exp2_numeric['year'] = exp2_nonnumeric['year']\n",
    "#print(exp1_numeric['year'].head())\n",
    "\n",
    "# merge back into single df\n",
    "exp2_processed = exp2_nonnumeric.merge(exp2_numeric, how='inner', on=['msoa code', 'year'])\n",
    "\n",
    "#print(len(exp1_processed))"
   ]
  },
  {
   "cell_type": "markdown",
   "id": "07d38512",
   "metadata": {},
   "source": [
    "### Creating DF of Vars for SES Score"
   ]
  },
  {
   "cell_type": "code",
   "execution_count": 81,
   "id": "61afdee9",
   "metadata": {},
   "outputs": [
    {
     "name": "stdout",
     "output_type": "stream",
     "text": [
      "           year  \\\n",
      "msoa code         \n",
      "E02000001  2011   \n",
      "E02000002  2011   \n",
      "E02000003  2011   \n",
      "E02000004  2011   \n",
      "E02000005  2011   \n",
      "\n",
      "           highest level of qualification: level 4 qualifications or above  \\\n",
      "msoa code                                                                    \n",
      "E02000001                                           2.079763                 \n",
      "E02000002                                          -0.578862                 \n",
      "E02000003                                          -0.300022                 \n",
      "E02000004                                          -0.595959                 \n",
      "E02000005                                          -0.610861                 \n",
      "\n",
      "           median house price  total annual income (£)  higher_occupation  \n",
      "msoa code                                                                  \n",
      "E02000001            1.047336                 1.408548           1.843460  \n",
      "E02000002           -0.047193                -0.340952          -0.495484  \n",
      "E02000003            0.045389                 0.204377          -0.220897  \n",
      "E02000004            0.007686                 0.069959          -0.324322  \n",
      "E02000005           -0.183059                 0.000000          -0.634398  \n"
     ]
    },
    {
     "name": "stderr",
     "output_type": "stream",
     "text": [
      "/var/folders/47/vfwtfrrs15l9jrx68sw2gdww0000gn/T/ipykernel_68274/1435011299.py:11: SettingWithCopyWarning: \n",
      "A value is trying to be set on a copy of a slice from a DataFrame\n",
      "\n",
      "See the caveats in the documentation: https://pandas.pydata.org/pandas-docs/stable/user_guide/indexing.html#returning-a-view-versus-a-copy\n",
      "  ses2_vars.sort_values(by=['year','msoa code'], ascending=True, inplace=True)\n"
     ]
    }
   ],
   "source": [
    "# creating the df of variables to create ses score\n",
    "\n",
    "pattern = '(year)|(.*level 4.*)|(.*price.*)|(.*income.*)|(higher_occupation)'\n",
    "    \n",
    "m = re.compile(pattern)\n",
    "cols = [c for c in data.columns.tolist() if m.match(c)]\n",
    "#print(cols)\n",
    "\n",
    "ses2_vars = exp2_processed[cols]\n",
    "\n",
    "ses2_vars.sort_values(by=['year','msoa code'], ascending=True, inplace=True)\n",
    "#print(ses_vars.head())\n",
    "\n",
    "\n",
    "print(ses_vars.head())"
   ]
  },
  {
   "cell_type": "markdown",
   "id": "492c3f2e",
   "metadata": {},
   "source": [
    "### PCA "
   ]
  },
  {
   "cell_type": "code",
   "execution_count": 85,
   "id": "9cfc9a63",
   "metadata": {},
   "outputs": [
    {
     "name": "stdout",
     "output_type": "stream",
     "text": [
      "           ses_score_11  ses_score_21\n",
      "msoa code                            \n",
      "E02000001     -2.146651     -3.115059\n",
      "E02000002      1.716202      0.814496\n",
      "E02000003      1.059949      0.320720\n",
      "E02000004      1.334502      0.268185\n",
      "E02000005      1.629355      0.559047\n"
     ]
    }
   ],
   "source": [
    "# pca for ses score\n",
    "ses2_np_scaled = ses2_vars.drop('year', axis=1).to_numpy()\n",
    "\n",
    "pca2 = decomposition.PCA(n_components=1, random_state=16)\n",
    "pca2.fit(ses2_np_scaled)\n",
    "\n",
    "first2_comp = pca2.transform(ses2_np_scaled)\n",
    "\n",
    "num_msoa_year = len(ses2_vars) // 2\n",
    "#print(type(num_msoa_year))\n",
    "\n",
    "scores11_2 = first2_comp[ :num_msoa_year]\n",
    "scores21_2 = first2_comp[num_msoa_year: ]\n",
    "#scores21 = first_comp[2*num_msoa_year: ]\n",
    "\n",
    "assert len(scores11_2) + len(scores21_2) == len(ses2_vars), 'scores and ses_vars differ in num rows'\n",
    "\n",
    "# change from np arrays to df and add the index\n",
    "#ses_vars01 = ses_vars[ses_vars['year'] == 2001]\n",
    "ses2_vars11 = ses2_vars[ses2_vars['year'] == '2011']\n",
    "ses2_vars21 = ses2_vars[ses2_vars['year'] == '2021']\n",
    "\n",
    "#scores01 = pd.DataFrame(scores01, index=ses_vars01.index)\n",
    "#scores01 = scores01.rename(columns={0: 'ses_score'})\n",
    "scores11_2 = pd.DataFrame(scores11_2, index=ses2_vars11.index)\n",
    "scores11_2 = scores11_2.rename(columns={0: 'ses_score'})\n",
    "scores21_2 = pd.DataFrame(scores21_2, index=ses2_vars21.index)\n",
    "scores21_2 = scores21_2.rename(columns={0: 'ses_score'})\n",
    "\n",
    "scores2_combined = scores11_2.merge(scores21_2, how='inner',on='msoa code',suffixes=['_11', '_21'])\n",
    "#scores_combined = scores_combined.rename(columns={'ses_score':'ses_score_21'})\n",
    "print(scores2_combined.head())"
   ]
  },
  {
   "cell_type": "code",
   "execution_count": 86,
   "id": "c34542e0",
   "metadata": {},
   "outputs": [
    {
     "data": {
      "text/plain": [
       "array([[-0.45950454, -0.54206001, -0.56473914, -0.41963821]])"
      ]
     },
     "execution_count": 86,
     "metadata": {},
     "output_type": "execute_result"
    }
   ],
   "source": [
    "pca2.components_"
   ]
  },
  {
   "cell_type": "code",
   "execution_count": 88,
   "id": "5edcd43a",
   "metadata": {},
   "outputs": [
    {
     "name": "stderr",
     "output_type": "stream",
     "text": [
      "/var/folders/47/vfwtfrrs15l9jrx68sw2gdww0000gn/T/ipykernel_68274/662224245.py:6: FutureWarning: \n",
      "\n",
      "`shade` is now deprecated in favor of `fill`; setting `fill=True`.\n",
      "This will become an error in seaborn v0.14.0; please update your code.\n",
      "\n",
      "  sns.kdeplot(scores2_combined['ses_score_11'], shade=True, ax=axes[0])\n",
      "/var/folders/47/vfwtfrrs15l9jrx68sw2gdww0000gn/T/ipykernel_68274/662224245.py:9: FutureWarning: \n",
      "\n",
      "`shade` is now deprecated in favor of `fill`; setting `fill=True`.\n",
      "This will become an error in seaborn v0.14.0; please update your code.\n",
      "\n",
      "  sns.kdeplot(scores2_combined['ses_score_21'], shade=True, ax=axes[1])\n"
     ]
    },
    {
     "data": {
      "image/png": "[encoded data removed]",
      "text/plain": [
       "<Figure size 1000x500 with 2 Axes>"
      ]
     },
     "metadata": {},
     "output_type": "display_data"
    }
   ],
   "source": [
    "# look at the density of scores each year\n",
    "fig, axes = plt.subplots(1, 2, figsize=(10, 5), sharex=True, sharey=True)\n",
    "#sns.kdeplot(scores_combined['ses_score_01'], shade=True, ax=axes[0])\n",
    "#axes[0].set_title(\"2001\")\n",
    "\n",
    "sns.kdeplot(scores2_combined['ses_score_11'], shade=True, ax=axes[0])\n",
    "axes[0].set_title(\"2011\")\n",
    "\n",
    "sns.kdeplot(scores2_combined['ses_score_21'], shade=True, ax=axes[1])\n",
    "axes[1].set_title(\"2021\")\n",
    "\n",
    "plt.tight_layout()\n",
    "plt.show()"
   ]
  },
  {
   "cell_type": "markdown",
   "id": "cc2c89bf",
   "metadata": {},
   "source": [
    "## Creating SES diff and finishing processing data for modeling"
   ]
  },
  {
   "cell_type": "code",
   "execution_count": 89,
   "id": "6f14c1d7",
   "metadata": {},
   "outputs": [],
   "source": [
    "scores2_combined['ses_diff_11_21'] = scores2_combined['ses_score_21'] - scores2_combined['ses_score_11']\n",
    "\n",
    "dep_var = pd.DataFrame(scores2_combined['ses_diff_11_21'])\n",
    "year = pd.DataFrame(['2011']*len(dep_var), index=dep_var.index)\n",
    "dep_var = dep_var.merge(year, how='inner', on='msoa code')\n",
    "dep_var.rename(columns={'ses_diff_11_21': 'y_var', 0: 'year'}, inplace=True)\n",
    "\n",
    "#dep_df = pd.concat((dep_01_11, dep_11_21))\n",
    "\n",
    "# drop 2021 rows in exp1\n",
    "data_ready = exp2_processed[exp2_processed['year'] != '2021']\n",
    "\n",
    "# combine dependent and ind vars\n",
    "data_ready = data_ready.merge(dep_var, how='inner', on=['msoa code', 'year'])"
   ]
  },
  {
   "cell_type": "markdown",
   "id": "21861e16",
   "metadata": {},
   "source": [
    "### Splitting data and creating data loaders"
   ]
  },
  {
   "cell_type": "code",
   "execution_count": 91,
   "id": "f0b11bd6",
   "metadata": {},
   "outputs": [],
   "source": [
    "# train valid test split\n",
    "data_proc = data_ready.drop(['year', 'msoa name', 'city code', 'city name'], axis=1)\n",
    "X_cities = data_proc.loc[:, data_proc.columns != 'y_var'].to_numpy()\n",
    "y_cities = data_proc['y_var'].to_numpy()\n",
    "\n",
    "X_c, X_test_c, y_c, y_test_c = train_test_split(X_cities, y_cities, test_size=0.2, random_state=186)\n",
    "X_train_c, X_valid_c, y_train_c, y_valid_c = train_test_split(X_c, y_c, test_size=0.2, random_state=186)"
   ]
  },
  {
   "cell_type": "code",
   "execution_count": 92,
   "id": "98ee9522",
   "metadata": {},
   "outputs": [],
   "source": [
    "# init the pytorch dataset class\n",
    "\n",
    "training_data_cities = CensusData(X_train_c, y_train_c)\n",
    "training_loader_cities = torch.utils.data.DataLoader(training_data_cities, **dataset_params)\n",
    "\n",
    "valid_data_cities = CensusData(X_valid_c, y_valid_c)\n",
    "valid_loader_cities = torch.utils.data.DataLoader(valid_data_cities, **dataset_params)"
   ]
  },
  {
   "cell_type": "markdown",
   "id": "910a0f30",
   "metadata": {},
   "source": [
    "### Optuna trial to find the best model"
   ]
  },
  {
   "cell_type": "code",
   "execution_count": 93,
   "id": "b940b4c7",
   "metadata": {},
   "outputs": [
    {
     "name": "stderr",
     "output_type": "stream",
     "text": [
      "[I 2024-04-15 00:15:50,646] A new study created in memory with name: no-name-13c2f0a8-4d0c-4fde-bdf2-930d223a2c91\n",
      "/Users/edwardyao/anaconda3/lib/python3.10/site-packages/torch/nn/modules/loss.py:530: UserWarning: Using a target size (torch.Size([64])) that is different to the input size (torch.Size([64, 1])). This will likely lead to incorrect results due to broadcasting. Please ensure they have the same size.\n",
      "  return F.mse_loss(input, target, reduction=self.reduction)\n",
      "/Users/edwardyao/anaconda3/lib/python3.10/site-packages/torch/nn/modules/loss.py:530: UserWarning: Using a target size (torch.Size([29])) that is different to the input size (torch.Size([29, 1])). This will likely lead to incorrect results due to broadcasting. Please ensure they have the same size.\n",
      "  return F.mse_loss(input, target, reduction=self.reduction)\n",
      "/Users/edwardyao/anaconda3/lib/python3.10/site-packages/torch/nn/modules/loss.py:530: UserWarning: Using a target size (torch.Size([29])) that is different to the input size (torch.Size([64, 1])). This will likely lead to incorrect results due to broadcasting. Please ensure they have the same size.\n",
      "  return F.mse_loss(input, target, reduction=self.reduction)\n",
      "/Users/edwardyao/anaconda3/lib/python3.10/site-packages/torch/nn/modules/loss.py:530: UserWarning: Using a target size (torch.Size([29])) that is different to the input size (torch.Size([56, 1])). This will likely lead to incorrect results due to broadcasting. Please ensure they have the same size.\n",
      "  return F.mse_loss(input, target, reduction=self.reduction)\n",
      "[I 2024-04-15 00:15:58,908] Trial 0 finished with value: 0.1523110568523407 and parameters: {'n_layers': 1, 'n_units_l0': 155, 'dropout_l0': 0.4, 'lr': 0.008465176554290162}. Best is trial 0 with value: 0.1523110568523407.\n",
      "[I 2024-04-15 00:16:05,193] Trial 1 finished with value: 0.22572317719459534 and parameters: {'n_layers': 1, 'n_units_l0': 55, 'dropout_l0': 0.30000000000000004, 'lr': 0.001776963828185495}. Best is trial 0 with value: 0.1523110568523407.\n",
      "[I 2024-04-15 00:16:25,056] Trial 2 finished with value: 0.13992372155189514 and parameters: {'n_layers': 4, 'n_units_l0': 155, 'dropout_l0': 0.2, 'n_units_l1': 75, 'dropout_l1': 0.2, 'n_units_l2': 85, 'dropout_l2': 0.4, 'n_units_l3': 45, 'dropout_l3': 0.5, 'lr': 0.0004270417081831423}. Best is trial 2 with value: 0.13992372155189514.\n",
      "[I 2024-04-15 00:16:34,569] Trial 3 finished with value: 0.1762952208518982 and parameters: {'n_layers': 3, 'n_units_l0': 45, 'dropout_l0': 0.5, 'n_units_l1': 15, 'dropout_l1': 0.4, 'n_units_l2': 30, 'dropout_l2': 0.4, 'lr': 0.010468693387656682}. Best is trial 2 with value: 0.13992372155189514.\n",
      "[I 2024-04-15 00:16:44,525] Trial 4 finished with value: 0.2573382258415222 and parameters: {'n_layers': 3, 'n_units_l0': 140, 'dropout_l0': 0.30000000000000004, 'n_units_l1': 40, 'dropout_l1': 0.30000000000000004, 'n_units_l2': 125, 'dropout_l2': 0.30000000000000004, 'lr': 0.0018359925567576747}. Best is trial 2 with value: 0.13992372155189514.\n",
      "[I 2024-04-15 00:16:44,637] Trial 5 pruned. \n",
      "[I 2024-04-15 00:16:44,786] Trial 6 pruned. \n",
      "[I 2024-04-15 00:16:44,866] Trial 7 pruned. \n",
      "[I 2024-04-15 00:16:45,069] Trial 8 pruned. \n",
      "[I 2024-04-15 00:16:45,307] Trial 9 pruned. \n",
      "[I 2024-04-15 00:16:45,575] Trial 10 pruned. \n",
      "[I 2024-04-15 00:16:45,671] Trial 11 pruned. \n",
      "[I 2024-04-15 00:16:45,892] Trial 12 pruned. \n",
      "[I 2024-04-15 00:16:46,175] Trial 13 pruned. \n",
      "[I 2024-04-15 00:16:46,341] Trial 14 pruned. \n",
      "[I 2024-04-15 00:16:46,810] Trial 15 pruned. \n",
      "[I 2024-04-15 00:16:47,004] Trial 16 pruned. \n",
      "[I 2024-04-15 00:16:47,295] Trial 17 pruned. \n",
      "[I 2024-04-15 00:17:02,603] Trial 18 finished with value: 0.200994610786438 and parameters: {'n_layers': 4, 'n_units_l0': 125, 'dropout_l0': 0.4, 'n_units_l1': 55, 'dropout_l1': 0.2, 'n_units_l2': 115, 'dropout_l2': 0.4, 'n_units_l3': 10, 'dropout_l3': 0.4, 'lr': 0.037162637238947506}. Best is trial 2 with value: 0.13992372155189514.\n",
      "[I 2024-04-15 00:17:02,743] Trial 19 pruned. \n",
      "[I 2024-04-15 00:17:02,977] Trial 20 pruned. \n",
      "[I 2024-04-15 00:17:11,585] Trial 21 finished with value: 0.316748708486557 and parameters: {'n_layers': 3, 'n_units_l0': 50, 'dropout_l0': 0.5, 'n_units_l1': 20, 'dropout_l1': 0.4, 'n_units_l2': 10, 'dropout_l2': 0.4, 'lr': 0.017300229559203656}. Best is trial 2 with value: 0.13992372155189514.\n",
      "[I 2024-04-15 00:17:11,669] Trial 22 pruned. \n",
      "[I 2024-04-15 00:17:11,966] Trial 23 pruned. \n",
      "[I 2024-04-15 00:17:12,191] Trial 24 pruned. \n",
      "[I 2024-04-15 00:17:12,383] Trial 25 pruned. \n",
      "[I 2024-04-15 00:17:12,768] Trial 26 pruned. \n",
      "[I 2024-04-15 00:17:12,864] Trial 27 pruned. \n",
      "[I 2024-04-15 00:17:13,017] Trial 28 pruned. \n",
      "[I 2024-04-15 00:17:13,122] Trial 29 pruned. \n",
      "[I 2024-04-15 00:17:13,336] Trial 30 pruned. \n",
      "[I 2024-04-15 00:17:13,483] Trial 31 pruned. \n",
      "[I 2024-04-15 00:17:13,620] Trial 32 pruned. \n",
      "[I 2024-04-15 00:17:13,806] Trial 33 pruned. \n",
      "[I 2024-04-15 00:17:13,949] Trial 34 pruned. \n",
      "[I 2024-04-15 00:17:14,632] Trial 35 pruned. \n",
      "[I 2024-04-15 00:17:14,952] Trial 36 pruned. \n",
      "[I 2024-04-15 00:17:34,366] Trial 37 finished with value: 0.18204441666603088 and parameters: {'n_layers': 4, 'n_units_l0': 100, 'dropout_l0': 0.5, 'n_units_l1': 50, 'dropout_l1': 0.4, 'n_units_l2': 145, 'dropout_l2': 0.30000000000000004, 'n_units_l3': 60, 'dropout_l3': 0.30000000000000004, 'lr': 0.00597722930854117}. Best is trial 2 with value: 0.13992372155189514.\n",
      "[I 2024-04-15 00:17:34,483] Trial 38 pruned. \n",
      "[I 2024-04-15 00:17:34,673] Trial 39 pruned. \n",
      "[I 2024-04-15 00:17:34,879] Trial 40 pruned. \n",
      "[I 2024-04-15 00:17:35,348] Trial 41 pruned. \n",
      "[I 2024-04-15 00:17:35,732] Trial 42 pruned. \n",
      "[I 2024-04-15 00:17:35,984] Trial 43 pruned. \n",
      "[I 2024-04-15 00:17:36,235] Trial 44 pruned. \n",
      "[I 2024-04-15 00:17:36,599] Trial 45 pruned. \n",
      "[I 2024-04-15 00:17:37,012] Trial 46 pruned. \n",
      "[I 2024-04-15 00:17:37,395] Trial 47 pruned. \n",
      "[I 2024-04-15 00:17:37,642] Trial 48 pruned. \n",
      "[I 2024-04-15 00:17:37,756] Trial 49 pruned. \n",
      "[I 2024-04-15 00:17:38,100] Trial 50 pruned. \n",
      "[I 2024-04-15 00:17:38,231] Trial 51 pruned. \n",
      "[I 2024-04-15 00:17:38,336] Trial 52 pruned. \n",
      "[I 2024-04-15 00:17:38,437] Trial 53 pruned. \n",
      "[I 2024-04-15 00:17:38,644] Trial 54 pruned. \n",
      "[I 2024-04-15 00:17:38,822] Trial 55 pruned. \n",
      "[I 2024-04-15 00:17:38,956] Trial 56 pruned. \n",
      "[I 2024-04-15 00:17:39,052] Trial 57 pruned. \n",
      "[I 2024-04-15 00:17:39,258] Trial 58 pruned. \n",
      "[I 2024-04-15 00:17:39,407] Trial 59 pruned. \n",
      "[I 2024-04-15 00:17:39,711] Trial 60 pruned. \n",
      "[I 2024-04-15 00:17:39,849] Trial 61 pruned. \n",
      "[I 2024-04-15 00:17:39,977] Trial 62 pruned. \n",
      "[I 2024-04-15 00:17:50,103] Trial 63 finished with value: 0.17563053965568542 and parameters: {'n_layers': 2, 'n_units_l0': 130, 'dropout_l0': 0.30000000000000004, 'n_units_l1': 15, 'dropout_l1': 0.30000000000000004, 'lr': 0.016713150387662128}. Best is trial 2 with value: 0.13992372155189514.\n",
      "[I 2024-04-15 00:17:50,266] Trial 64 pruned. \n",
      "[I 2024-04-15 00:17:50,375] Trial 65 pruned. \n",
      "[I 2024-04-15 00:17:50,587] Trial 66 pruned. \n",
      "[I 2024-04-15 00:17:50,852] Trial 67 pruned. \n",
      "[I 2024-04-15 00:17:50,998] Trial 68 pruned. \n",
      "[I 2024-04-15 00:17:51,131] Trial 69 pruned. \n",
      "[I 2024-04-15 00:17:51,574] Trial 70 pruned. \n",
      "[I 2024-04-15 00:17:51,859] Trial 71 pruned. \n",
      "[I 2024-04-15 00:17:52,120] Trial 72 pruned. \n",
      "[I 2024-04-15 00:17:52,256] Trial 73 pruned. \n",
      "[I 2024-04-15 00:18:28,265] Trial 74 finished with value: 0.5022789835929871 and parameters: {'n_layers': 3, 'n_units_l0': 160, 'dropout_l0': 0.30000000000000004, 'n_units_l1': 55, 'dropout_l1': 0.2, 'n_units_l2': 45, 'dropout_l2': 0.4, 'lr': 0.017584626456991274}. Best is trial 2 with value: 0.13992372155189514.\n",
      "[I 2024-04-15 00:18:28,761] Trial 75 pruned. \n",
      "[I 2024-04-15 00:18:29,065] Trial 76 pruned. \n",
      "[I 2024-04-15 00:18:29,384] Trial 77 pruned. \n",
      "[I 2024-04-15 00:18:29,537] Trial 78 pruned. \n",
      "[I 2024-04-15 00:18:29,922] Trial 79 pruned. \n",
      "[I 2024-04-15 00:18:30,185] Trial 80 pruned. \n",
      "[I 2024-04-15 00:18:30,441] Trial 81 pruned. \n",
      "[I 2024-04-15 00:18:30,647] Trial 82 pruned. \n",
      "[I 2024-04-15 00:18:30,756] Trial 83 pruned. \n",
      "[I 2024-04-15 00:18:30,825] Trial 84 pruned. \n",
      "[I 2024-04-15 00:18:30,966] Trial 85 pruned. \n",
      "[I 2024-04-15 00:18:31,383] Trial 86 pruned. \n",
      "[I 2024-04-15 00:18:31,621] Trial 87 pruned. \n"
     ]
    },
    {
     "name": "stderr",
     "output_type": "stream",
     "text": [
      "[I 2024-04-15 00:18:31,865] Trial 88 pruned. \n",
      "[I 2024-04-15 00:18:32,022] Trial 89 pruned. \n",
      "[I 2024-04-15 00:18:32,246] Trial 90 pruned. \n",
      "[I 2024-04-15 00:18:32,361] Trial 91 pruned. \n",
      "[I 2024-04-15 00:18:33,507] Trial 92 pruned. \n",
      "[I 2024-04-15 00:18:33,943] Trial 93 pruned. \n",
      "[I 2024-04-15 00:18:34,299] Trial 94 pruned. \n",
      "[I 2024-04-15 00:18:34,420] Trial 95 pruned. \n",
      "[I 2024-04-15 00:18:34,514] Trial 96 pruned. \n",
      "[I 2024-04-15 00:18:34,599] Trial 97 pruned. \n",
      "[I 2024-04-15 00:18:34,729] Trial 98 pruned. \n",
      "[I 2024-04-15 00:18:34,934] Trial 99 pruned. \n",
      "[I 2024-04-15 00:18:35,694] Trial 100 pruned. \n",
      "[I 2024-04-15 00:19:06,545] Trial 101 finished with value: 0.2600879967212677 and parameters: {'n_layers': 4, 'n_units_l0': 160, 'dropout_l0': 0.4, 'n_units_l1': 70, 'dropout_l1': 0.30000000000000004, 'n_units_l2': 105, 'dropout_l2': 0.5, 'n_units_l3': 30, 'dropout_l3': 0.4, 'lr': 0.0018666180193513122}. Best is trial 2 with value: 0.13992372155189514.\n",
      "[I 2024-04-15 00:19:06,958] Trial 102 pruned. \n",
      "[I 2024-04-15 00:19:07,083] Trial 103 pruned. \n",
      "[I 2024-04-15 00:19:07,964] Trial 104 pruned. \n",
      "[I 2024-04-15 00:19:08,301] Trial 105 pruned. \n",
      "[I 2024-04-15 00:19:08,604] Trial 106 pruned. \n",
      "[I 2024-04-15 00:19:08,805] Trial 107 pruned. \n",
      "[I 2024-04-15 00:19:09,058] Trial 108 pruned. \n",
      "[I 2024-04-15 00:19:19,074] Trial 109 finished with value: 0.2589092552661896 and parameters: {'n_layers': 2, 'n_units_l0': 120, 'dropout_l0': 0.30000000000000004, 'n_units_l1': 40, 'dropout_l1': 0.5, 'lr': 0.008315546684784647}. Best is trial 2 with value: 0.13992372155189514.\n",
      "[I 2024-04-15 00:19:19,150] Trial 110 pruned. \n",
      "[I 2024-04-15 00:19:19,228] Trial 111 pruned. \n",
      "[I 2024-04-15 00:19:19,304] Trial 112 pruned. \n",
      "[I 2024-04-15 00:19:19,432] Trial 113 pruned. \n",
      "[I 2024-04-15 00:19:19,565] Trial 114 pruned. \n",
      "[I 2024-04-15 00:19:19,820] Trial 115 pruned. \n",
      "[I 2024-04-15 00:19:19,964] Trial 116 pruned. \n",
      "[I 2024-04-15 00:19:20,062] Trial 117 pruned. \n",
      "[I 2024-04-15 00:19:20,209] Trial 118 pruned. \n",
      "[I 2024-04-15 00:19:20,392] Trial 119 pruned. \n",
      "[I 2024-04-15 00:19:20,521] Trial 120 pruned. \n",
      "[I 2024-04-15 00:19:20,958] Trial 121 pruned. \n",
      "[I 2024-04-15 00:19:21,063] Trial 122 pruned. \n",
      "[I 2024-04-15 00:19:21,646] Trial 123 pruned. \n",
      "[I 2024-04-15 00:19:38,998] Trial 124 finished with value: 0.22164508700370789 and parameters: {'n_layers': 4, 'n_units_l0': 150, 'dropout_l0': 0.4, 'n_units_l1': 65, 'dropout_l1': 0.30000000000000004, 'n_units_l2': 115, 'dropout_l2': 0.5, 'n_units_l3': 30, 'dropout_l3': 0.4, 'lr': 0.020063887849288402}. Best is trial 2 with value: 0.13992372155189514.\n",
      "[I 2024-04-15 00:19:53,718] Trial 125 finished with value: 0.4491223096847534 and parameters: {'n_layers': 4, 'n_units_l0': 150, 'dropout_l0': 0.4, 'n_units_l1': 55, 'dropout_l1': 0.30000000000000004, 'n_units_l2': 115, 'dropout_l2': 0.5, 'n_units_l3': 20, 'dropout_l3': 0.5, 'lr': 0.021765599400146305}. Best is trial 2 with value: 0.13992372155189514.\n",
      "[I 2024-04-15 00:19:53,826] Trial 126 pruned. \n",
      "[I 2024-04-15 00:19:53,960] Trial 127 pruned. \n",
      "[I 2024-04-15 00:19:54,073] Trial 128 pruned. \n",
      "[I 2024-04-15 00:19:54,296] Trial 129 pruned. \n",
      "[I 2024-04-15 00:19:54,608] Trial 130 pruned. \n",
      "[I 2024-04-15 00:19:54,714] Trial 131 pruned. \n",
      "[I 2024-04-15 00:20:12,841] Trial 132 finished with value: 0.32193464040756226 and parameters: {'n_layers': 4, 'n_units_l0': 155, 'dropout_l0': 0.30000000000000004, 'n_units_l1': 40, 'dropout_l1': 0.30000000000000004, 'n_units_l2': 65, 'dropout_l2': 0.4, 'n_units_l3': 15, 'dropout_l3': 0.30000000000000004, 'lr': 0.025752786926443266}. Best is trial 2 with value: 0.13992372155189514.\n",
      "[I 2024-04-15 00:20:12,961] Trial 133 pruned. \n",
      "[I 2024-04-15 00:20:13,301] Trial 134 pruned. \n",
      "[I 2024-04-15 00:20:13,602] Trial 135 pruned. \n",
      "[I 2024-04-15 00:20:13,943] Trial 136 pruned. \n",
      "[I 2024-04-15 00:20:14,364] Trial 137 pruned. \n",
      "[I 2024-04-15 00:20:14,711] Trial 138 pruned. \n",
      "[I 2024-04-15 00:20:14,888] Trial 139 pruned. \n",
      "[I 2024-04-15 00:20:15,181] Trial 140 pruned. \n",
      "[I 2024-04-15 00:20:15,423] Trial 141 pruned. \n",
      "[I 2024-04-15 00:20:15,553] Trial 142 pruned. \n",
      "[I 2024-04-15 00:20:15,779] Trial 143 pruned. \n",
      "[I 2024-04-15 00:20:16,082] Trial 144 pruned. \n",
      "[I 2024-04-15 00:20:16,237] Trial 145 pruned. \n",
      "[I 2024-04-15 00:20:16,401] Trial 146 pruned. \n",
      "[I 2024-04-15 00:20:16,476] Trial 147 pruned. \n",
      "[I 2024-04-15 00:20:16,580] Trial 148 pruned. \n",
      "[I 2024-04-15 00:20:16,696] Trial 149 pruned. \n"
     ]
    },
    {
     "name": "stdout",
     "output_type": "stream",
     "text": [
      "Best Trial:\n",
      "  Params: \n",
      "    n_layers: 4\n",
      "    n_units_l0: 155\n",
      "    dropout_l0: 0.2\n",
      "    n_units_l1: 75\n",
      "    dropout_l1: 0.2\n",
      "    n_units_l2: 85\n",
      "    dropout_l2: 0.4\n",
      "    n_units_l3: 45\n",
      "    dropout_l3: 0.5\n",
      "    lr: 0.0004270417081831423\n",
      "Best Model\n"
     ]
    },
    {
     "data": {
      "text/plain": [
       "Sequential(\n",
       "  (0): Linear(in_features=209, out_features=155, bias=True)\n",
       "  (1): Tanh()\n",
       "  (2): Dropout(p=0.2, inplace=False)\n",
       "  (3): Linear(in_features=155, out_features=75, bias=True)\n",
       "  (4): Tanh()\n",
       "  (5): Dropout(p=0.2, inplace=False)\n",
       "  (6): Linear(in_features=75, out_features=85, bias=True)\n",
       "  (7): Tanh()\n",
       "  (8): Dropout(p=0.4, inplace=False)\n",
       "  (9): Linear(in_features=85, out_features=45, bias=True)\n",
       "  (10): Tanh()\n",
       "  (11): Dropout(p=0.5, inplace=False)\n",
       "  (12): Linear(in_features=45, out_features=1, bias=True)\n",
       ")"
      ]
     },
     "execution_count": 93,
     "metadata": {},
     "output_type": "execute_result"
    }
   ],
   "source": [
    "# running optuna trial using class objective\n",
    "\n",
    "obj_cities = Objective(training_loader_cities, valid_loader_cities, define_model)\n",
    "city_study = optuna.create_study(direction='minimize', sampler=cls_sampler)\n",
    "city_study.optimize(obj_cities, n_trials=150, timeout=600, callbacks=[obj_cities.callback])\n",
    "\n",
    "print(\"Best Trial:\")\n",
    "city_trial = city_study.best_trial\n",
    "\n",
    "print(\"  Params: \")\n",
    "for key, value in city_trial.params.items():\n",
    "    print(\"    {}: {}\".format(key, value))\n",
    "\n",
    "best_city_model = obj_cities.best_booster\n",
    "print(\"Best Model\")\n",
    "best_city_model"
   ]
  },
  {
   "cell_type": "markdown",
   "id": "03b75f9e",
   "metadata": {},
   "source": [
    "### Calculating performance for city model"
   ]
  },
  {
   "cell_type": "code",
   "execution_count": 97,
   "id": "7ff1e138",
   "metadata": {},
   "outputs": [
    {
     "name": "stdout",
     "output_type": "stream",
     "text": [
      "Train Accuracy: 0.7407912687585266\n",
      "Train Balanced Accuracy: 0.5132341498752382\n",
      "Train F1: 0.1810344827586207\n"
     ]
    }
   ],
   "source": [
    "# sd train metrics\n",
    "with torch.no_grad():\n",
    "    y_train_city_pred = best_city_model(torch.from_numpy(X_train_c).float())\n",
    "\n",
    "change_metrics(y_train_c, y_train_city_pred.numpy(), dataset='Train')"
   ]
  },
  {
   "cell_type": "code",
   "execution_count": 98,
   "id": "d0bdbc5a",
   "metadata": {},
   "outputs": [
    {
     "name": "stdout",
     "output_type": "stream",
     "text": [
      "Valid Accuracy: 0.7717391304347826\n",
      "Valid Balanced Accuracy: 0.5392930178206252\n",
      "Valid F1: 0.19230769230769232\n"
     ]
    }
   ],
   "source": [
    "# sd train metrics\n",
    "with torch.no_grad():\n",
    "    y_valid_city_pred = best_city_model(torch.from_numpy(X_valid_c).float())\n",
    "\n",
    "change_metrics(y_valid_c, y_valid_city_pred.numpy(), dataset='Valid')"
   ]
  },
  {
   "cell_type": "code",
   "execution_count": 99,
   "id": "4235003d",
   "metadata": {},
   "outputs": [
    {
     "name": "stdout",
     "output_type": "stream",
     "text": [
      "Valid Accuracy: 0.7695652173913043\n",
      "Valid Balanced Accuracy: 0.5288214101904272\n",
      "Valid F1: 0.18461538461538463\n"
     ]
    }
   ],
   "source": [
    "# sd train metrics\n",
    "with torch.no_grad():\n",
    "    y_test_city_pred = best_city_model(torch.from_numpy(X_test_c).float())\n",
    "\n",
    "change_metrics(y_test_c, y_test_city_pred.numpy(), dataset='Valid')"
   ]
  },
  {
   "cell_type": "code",
   "execution_count": null,
   "id": "b35cee9c",
   "metadata": {},
   "outputs": [],
   "source": []
  },
  {
   "cell_type": "code",
   "execution_count": null,
   "id": "4a1314c7",
   "metadata": {},
   "outputs": [],
   "source": []
  },
  {
   "cell_type": "code",
   "execution_count": null,
   "id": "bdc5b9ed",
   "metadata": {},
   "outputs": [],
   "source": []
  }
 ],
 "metadata": {
  "kernelspec": {
   "display_name": "Python 3 (ipykernel)",
   "language": "python",
   "name": "python3"
  },
  "language_info": {
   "codemirror_mode": {
    "name": "ipython",
    "version": 3
   },
   "file_extension": ".py",
   "mimetype": "text/x-python",
   "name": "python",
   "nbconvert_exporter": "python",
   "pygments_lexer": "ipython3",
   "version": "3.10.9"
  }
 },
 "nbformat": 4,
 "nbformat_minor": 5
}
